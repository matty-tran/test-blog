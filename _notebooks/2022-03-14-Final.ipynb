{
 "cells": [
  {
   "cell_type": "markdown",
   "id": "372a0d6a-9fa9-4c55-8dee-1d369e799ac5",
   "metadata": {},
   "source": [
    "# **G.G.: Good Game?**  "
   ]
  },
  {
   "cell_type": "markdown",
   "id": "84a94524-546e-41e5-9da7-64c25d778bdf",
   "metadata": {},
   "source": [
    "## **Introduction** "
   ]
  },
  {
   "cell_type": "markdown",
   "id": "ed89c712-984e-4a91-a3b2-fa23021934d2",
   "metadata": {},
   "source": [
    "In the modern age, video games have become a modern past time enjoyed by many people of various ages. A now lucrative industry, video games come in a variety of genres, experiences, and platforms. When asked about successful video games, a handful of titles might come to mind. Ones that are iconic because of their characters, revolutionary because of the way they engage with storytelling, or perhaps nostalgic because of how long they have been around. \n",
    "\n",
    "This project seeks to define top performing video games and the traits that may have contributed to the success of these titles. Subsequently, I would like to conduct a more qualitative investigation on these titles, mainly examining reviews to paint a clearer picture of what consumers like about top games. "
   ]
  },
  {
   "cell_type": "markdown",
   "id": "1b32b6a0-d6e4-4eb5-93bb-b8b5dccff33b",
   "metadata": {},
   "source": [
    "## **The Data**"
   ]
  },
  {
   "cell_type": "markdown",
   "id": "7771d2d5-899c-4bef-939a-416b330db450",
   "metadata": {},
   "source": [
    "Initial exploration of defining what makes a good game will be conducted using the Video Games CORGIS dataset which can be accessed [here.](https://corgis-edu.github.io/corgis/python/video_games/) This data was originally collected by Dr. Joe Cox who conducted an empirical investigation of U.S. sales data of video games. Dr. Cox concluded that the major factors that predict for a title's ability to attain \"blockbuster\" status were threefold: the company that produced the title, the console, and the critic reviews. \n",
    "\n",
    "I would like to use the data that Dr. Cox collected, which spans thousands of titles that were released between 2004 and 2010, and conduct my own analysis agnostic to his fidnings. \n",
    "\n",
    "The categoies that I am interested in and their possible effects on the success of a game are: \n",
    "1. Maximum number of players: how many people can play this game at one time? \n",
    "2. Online Features: does the game support online play? \n",
    "3. Genre: what genre does this game belong to? \n",
    "\n",
    "Within these categories, I would like to measure success of a game using: \n",
    "1. Review score: the typical review score out of 100 \n",
    "2. Sales: the total sales made on the game measured in millions of dollars \n",
    "3. Completionist: players reported completing everything in the game \n",
    "\n"
   ]
  },
  {
   "cell_type": "markdown",
   "id": "d69dc763-b19a-4bd3-b473-eb1e0607c8b8",
   "metadata": {},
   "source": [
    "## **Data Exploration**"
   ]
  },
  {
   "cell_type": "code",
   "execution_count": 1,
   "id": "a677e26a-e794-4b27-a385-a7ae7ffff07b",
   "metadata": {},
   "outputs": [],
   "source": [
    "#hide\n",
    "import pandas as pd \n",
    "import seaborn as sns"
   ]
  },
  {
   "cell_type": "code",
   "execution_count": 2,
   "id": "663b9bc5-cd55-4488-9dd3-002b01893a08",
   "metadata": {},
   "outputs": [],
   "source": [
    "#hide\n",
    "import video_games"
   ]
  },
  {
   "cell_type": "code",
   "execution_count": 3,
   "id": "aed170c3-6951-4c68-81e5-3ba3b735062e",
   "metadata": {},
   "outputs": [],
   "source": [
    "#hide\n",
    "video_game = video_games.get_video_game()"
   ]
  },
  {
   "cell_type": "code",
   "execution_count": 4,
   "id": "369088e5-a2ec-4d1b-ae50-639553b18faf",
   "metadata": {},
   "outputs": [],
   "source": [
    "#hide\n",
    "df = pd.read_csv('video_games.csv')"
   ]
  },
  {
   "cell_type": "code",
   "execution_count": 5,
   "id": "05a88b00-4923-4c0c-a561-ab2255443a27",
   "metadata": {},
   "outputs": [
    {
     "data": {
      "text/html": [
       "<div>\n",
       "<style scoped>\n",
       "    .dataframe tbody tr th:only-of-type {\n",
       "        vertical-align: middle;\n",
       "    }\n",
       "\n",
       "    .dataframe tbody tr th {\n",
       "        vertical-align: top;\n",
       "    }\n",
       "\n",
       "    .dataframe thead th {\n",
       "        text-align: right;\n",
       "    }\n",
       "</style>\n",
       "<table border=\"1\" class=\"dataframe\">\n",
       "  <thead>\n",
       "    <tr style=\"text-align: right;\">\n",
       "      <th></th>\n",
       "      <th>Title</th>\n",
       "      <th>Features.Handheld?</th>\n",
       "      <th>Features.Max Players</th>\n",
       "      <th>Features.Multiplatform?</th>\n",
       "      <th>Features.Online?</th>\n",
       "      <th>Metadata.Genres</th>\n",
       "      <th>Metadata.Licensed?</th>\n",
       "      <th>Metadata.Publishers</th>\n",
       "      <th>Metadata.Sequel?</th>\n",
       "      <th>Metrics.Review Score</th>\n",
       "      <th>...</th>\n",
       "      <th>Length.Main + Extras.Average</th>\n",
       "      <th>Length.Main + Extras.Leisure</th>\n",
       "      <th>Length.Main + Extras.Median</th>\n",
       "      <th>Length.Main + Extras.Polled</th>\n",
       "      <th>Length.Main + Extras.Rushed</th>\n",
       "      <th>Length.Main Story.Average</th>\n",
       "      <th>Length.Main Story.Leisure</th>\n",
       "      <th>Length.Main Story.Median</th>\n",
       "      <th>Length.Main Story.Polled</th>\n",
       "      <th>Length.Main Story.Rushed</th>\n",
       "    </tr>\n",
       "  </thead>\n",
       "  <tbody>\n",
       "    <tr>\n",
       "      <th>0</th>\n",
       "      <td>Super Mario 64 DS</td>\n",
       "      <td>True</td>\n",
       "      <td>1</td>\n",
       "      <td>True</td>\n",
       "      <td>True</td>\n",
       "      <td>Action</td>\n",
       "      <td>True</td>\n",
       "      <td>Nintendo</td>\n",
       "      <td>True</td>\n",
       "      <td>85</td>\n",
       "      <td>...</td>\n",
       "      <td>24.916667</td>\n",
       "      <td>29.966667</td>\n",
       "      <td>25.000000</td>\n",
       "      <td>16</td>\n",
       "      <td>18.333333</td>\n",
       "      <td>14.333333</td>\n",
       "      <td>18.316667</td>\n",
       "      <td>14.500000</td>\n",
       "      <td>21</td>\n",
       "      <td>9.700000</td>\n",
       "    </tr>\n",
       "    <tr>\n",
       "      <th>1</th>\n",
       "      <td>Lumines: Puzzle Fusion</td>\n",
       "      <td>True</td>\n",
       "      <td>1</td>\n",
       "      <td>True</td>\n",
       "      <td>True</td>\n",
       "      <td>Strategy</td>\n",
       "      <td>True</td>\n",
       "      <td>Ubisoft</td>\n",
       "      <td>True</td>\n",
       "      <td>89</td>\n",
       "      <td>...</td>\n",
       "      <td>9.750000</td>\n",
       "      <td>9.866667</td>\n",
       "      <td>9.750000</td>\n",
       "      <td>2</td>\n",
       "      <td>9.616667</td>\n",
       "      <td>10.333333</td>\n",
       "      <td>11.083333</td>\n",
       "      <td>10.000000</td>\n",
       "      <td>3</td>\n",
       "      <td>9.583333</td>\n",
       "    </tr>\n",
       "    <tr>\n",
       "      <th>2</th>\n",
       "      <td>WarioWare Touched!</td>\n",
       "      <td>True</td>\n",
       "      <td>2</td>\n",
       "      <td>True</td>\n",
       "      <td>True</td>\n",
       "      <td>Action,Racing / Driving,Sports</td>\n",
       "      <td>True</td>\n",
       "      <td>Nintendo</td>\n",
       "      <td>True</td>\n",
       "      <td>81</td>\n",
       "      <td>...</td>\n",
       "      <td>3.850000</td>\n",
       "      <td>5.666667</td>\n",
       "      <td>3.333333</td>\n",
       "      <td>11</td>\n",
       "      <td>2.783333</td>\n",
       "      <td>1.916667</td>\n",
       "      <td>2.933333</td>\n",
       "      <td>1.833333</td>\n",
       "      <td>30</td>\n",
       "      <td>1.433333</td>\n",
       "    </tr>\n",
       "    <tr>\n",
       "      <th>3</th>\n",
       "      <td>Hot Shots Golf: Open Tee</td>\n",
       "      <td>True</td>\n",
       "      <td>1</td>\n",
       "      <td>True</td>\n",
       "      <td>True</td>\n",
       "      <td>Sports</td>\n",
       "      <td>True</td>\n",
       "      <td>Sony</td>\n",
       "      <td>True</td>\n",
       "      <td>81</td>\n",
       "      <td>...</td>\n",
       "      <td>0.000000</td>\n",
       "      <td>0.000000</td>\n",
       "      <td>0.000000</td>\n",
       "      <td>0</td>\n",
       "      <td>0.000000</td>\n",
       "      <td>0.000000</td>\n",
       "      <td>0.000000</td>\n",
       "      <td>0.000000</td>\n",
       "      <td>0</td>\n",
       "      <td>0.000000</td>\n",
       "    </tr>\n",
       "    <tr>\n",
       "      <th>4</th>\n",
       "      <td>Spider-Man 2</td>\n",
       "      <td>True</td>\n",
       "      <td>1</td>\n",
       "      <td>True</td>\n",
       "      <td>True</td>\n",
       "      <td>Action</td>\n",
       "      <td>True</td>\n",
       "      <td>Activision</td>\n",
       "      <td>True</td>\n",
       "      <td>61</td>\n",
       "      <td>...</td>\n",
       "      <td>12.766667</td>\n",
       "      <td>17.316667</td>\n",
       "      <td>12.500000</td>\n",
       "      <td>12</td>\n",
       "      <td>10.483333</td>\n",
       "      <td>8.350000</td>\n",
       "      <td>11.083333</td>\n",
       "      <td>8.000000</td>\n",
       "      <td>23</td>\n",
       "      <td>5.333333</td>\n",
       "    </tr>\n",
       "  </tbody>\n",
       "</table>\n",
       "<p>5 rows × 36 columns</p>\n",
       "</div>"
      ],
      "text/plain": [
       "                      Title  Features.Handheld?  Features.Max Players  \\\n",
       "0         Super Mario 64 DS                True                     1   \n",
       "1    Lumines: Puzzle Fusion                True                     1   \n",
       "2        WarioWare Touched!                True                     2   \n",
       "3  Hot Shots Golf: Open Tee                True                     1   \n",
       "4              Spider-Man 2                True                     1   \n",
       "\n",
       "   Features.Multiplatform?  Features.Online?                 Metadata.Genres  \\\n",
       "0                     True              True                          Action   \n",
       "1                     True              True                        Strategy   \n",
       "2                     True              True  Action,Racing / Driving,Sports   \n",
       "3                     True              True                          Sports   \n",
       "4                     True              True                          Action   \n",
       "\n",
       "   Metadata.Licensed? Metadata.Publishers  Metadata.Sequel?  \\\n",
       "0                True            Nintendo              True   \n",
       "1                True             Ubisoft              True   \n",
       "2                True            Nintendo              True   \n",
       "3                True                Sony              True   \n",
       "4                True          Activision              True   \n",
       "\n",
       "   Metrics.Review Score  ...  Length.Main + Extras.Average  \\\n",
       "0                    85  ...                     24.916667   \n",
       "1                    89  ...                      9.750000   \n",
       "2                    81  ...                      3.850000   \n",
       "3                    81  ...                      0.000000   \n",
       "4                    61  ...                     12.766667   \n",
       "\n",
       "   Length.Main + Extras.Leisure Length.Main + Extras.Median  \\\n",
       "0                     29.966667                   25.000000   \n",
       "1                      9.866667                    9.750000   \n",
       "2                      5.666667                    3.333333   \n",
       "3                      0.000000                    0.000000   \n",
       "4                     17.316667                   12.500000   \n",
       "\n",
       "  Length.Main + Extras.Polled  Length.Main + Extras.Rushed  \\\n",
       "0                          16                    18.333333   \n",
       "1                           2                     9.616667   \n",
       "2                          11                     2.783333   \n",
       "3                           0                     0.000000   \n",
       "4                          12                    10.483333   \n",
       "\n",
       "   Length.Main Story.Average  Length.Main Story.Leisure  \\\n",
       "0                  14.333333                  18.316667   \n",
       "1                  10.333333                  11.083333   \n",
       "2                   1.916667                   2.933333   \n",
       "3                   0.000000                   0.000000   \n",
       "4                   8.350000                  11.083333   \n",
       "\n",
       "   Length.Main Story.Median  Length.Main Story.Polled  \\\n",
       "0                 14.500000                        21   \n",
       "1                 10.000000                         3   \n",
       "2                  1.833333                        30   \n",
       "3                  0.000000                         0   \n",
       "4                  8.000000                        23   \n",
       "\n",
       "   Length.Main Story.Rushed  \n",
       "0                  9.700000  \n",
       "1                  9.583333  \n",
       "2                  1.433333  \n",
       "3                  0.000000  \n",
       "4                  5.333333  \n",
       "\n",
       "[5 rows x 36 columns]"
      ]
     },
     "execution_count": 5,
     "metadata": {},
     "output_type": "execute_result"
    }
   ],
   "source": [
    "#hide-input\n",
    "df.head()"
   ]
  },
  {
   "cell_type": "markdown",
   "id": "f9050958-c975-4b89-898a-055105f22666",
   "metadata": {},
   "source": [
    "### 1. What are the top games by critic reviews? "
   ]
  },
  {
   "cell_type": "code",
   "execution_count": 6,
   "id": "3cc58925-35ba-40a1-95c7-5a8b2fb0a0ee",
   "metadata": {},
   "outputs": [
    {
     "data": {
      "text/html": [
       "<div>\n",
       "<style scoped>\n",
       "    .dataframe tbody tr th:only-of-type {\n",
       "        vertical-align: middle;\n",
       "    }\n",
       "\n",
       "    .dataframe tbody tr th {\n",
       "        vertical-align: top;\n",
       "    }\n",
       "\n",
       "    .dataframe thead th {\n",
       "        text-align: right;\n",
       "    }\n",
       "</style>\n",
       "<table border=\"1\" class=\"dataframe\">\n",
       "  <thead>\n",
       "    <tr style=\"text-align: right;\">\n",
       "      <th></th>\n",
       "      <th>Title</th>\n",
       "      <th>Metrics.Review Score</th>\n",
       "    </tr>\n",
       "  </thead>\n",
       "  <tbody>\n",
       "    <tr>\n",
       "      <th>837</th>\n",
       "      <td>Grand Theft Auto IV</td>\n",
       "      <td>98</td>\n",
       "    </tr>\n",
       "    <tr>\n",
       "      <th>834</th>\n",
       "      <td>Grand Theft Auto IV</td>\n",
       "      <td>98</td>\n",
       "    </tr>\n",
       "    <tr>\n",
       "      <th>422</th>\n",
       "      <td>Super Mario Galaxy</td>\n",
       "      <td>97</td>\n",
       "    </tr>\n",
       "    <tr>\n",
       "      <th>444</th>\n",
       "      <td>BioShock</td>\n",
       "      <td>96</td>\n",
       "    </tr>\n",
       "    <tr>\n",
       "      <th>462</th>\n",
       "      <td>The Orange Box</td>\n",
       "      <td>96</td>\n",
       "    </tr>\n",
       "    <tr>\n",
       "      <th>...</th>\n",
       "      <td>...</td>\n",
       "      <td>...</td>\n",
       "    </tr>\n",
       "    <tr>\n",
       "      <th>645</th>\n",
       "      <td>Looney Tunes: Acme Arsenal</td>\n",
       "      <td>27</td>\n",
       "    </tr>\n",
       "    <tr>\n",
       "      <th>604</th>\n",
       "      <td>Chicken Shoot</td>\n",
       "      <td>27</td>\n",
       "    </tr>\n",
       "    <tr>\n",
       "      <th>446</th>\n",
       "      <td>Game Party</td>\n",
       "      <td>25</td>\n",
       "    </tr>\n",
       "    <tr>\n",
       "      <th>459</th>\n",
       "      <td>Deal or No Deal</td>\n",
       "      <td>20</td>\n",
       "    </tr>\n",
       "    <tr>\n",
       "      <th>794</th>\n",
       "      <td>Anubis II</td>\n",
       "      <td>19</td>\n",
       "    </tr>\n",
       "  </tbody>\n",
       "</table>\n",
       "<p>1212 rows × 2 columns</p>\n",
       "</div>"
      ],
      "text/plain": [
       "                          Title  Metrics.Review Score\n",
       "837         Grand Theft Auto IV                    98\n",
       "834         Grand Theft Auto IV                    98\n",
       "422          Super Mario Galaxy                    97\n",
       "444                    BioShock                    96\n",
       "462              The Orange Box                    96\n",
       "..                          ...                   ...\n",
       "645  Looney Tunes: Acme Arsenal                    27\n",
       "604               Chicken Shoot                    27\n",
       "446                  Game Party                    25\n",
       "459             Deal or No Deal                    20\n",
       "794                   Anubis II                    19\n",
       "\n",
       "[1212 rows x 2 columns]"
      ]
     },
     "execution_count": 6,
     "metadata": {},
     "output_type": "execute_result"
    }
   ],
   "source": [
    "#hide-input\n",
    "df[['Title','Metrics.Review Score']].sort_values('Metrics.Review Score', ascending = False )"
   ]
  },
  {
   "cell_type": "markdown",
   "id": "390b074b-259f-4c59-8027-17cc7e18a19d",
   "metadata": {},
   "source": [
    "### 2. What are the top games by sales? "
   ]
  },
  {
   "cell_type": "code",
   "execution_count": 7,
   "id": "0036d049-a78d-4c57-846d-93b5ed4a01f8",
   "metadata": {},
   "outputs": [
    {
     "data": {
      "text/html": [
       "<div>\n",
       "<style scoped>\n",
       "    .dataframe tbody tr th:only-of-type {\n",
       "        vertical-align: middle;\n",
       "    }\n",
       "\n",
       "    .dataframe tbody tr th {\n",
       "        vertical-align: top;\n",
       "    }\n",
       "\n",
       "    .dataframe thead th {\n",
       "        text-align: right;\n",
       "    }\n",
       "</style>\n",
       "<table border=\"1\" class=\"dataframe\">\n",
       "  <thead>\n",
       "    <tr style=\"text-align: right;\">\n",
       "      <th></th>\n",
       "      <th>Title</th>\n",
       "      <th>Metrics.Sales</th>\n",
       "    </tr>\n",
       "  </thead>\n",
       "  <tbody>\n",
       "    <tr>\n",
       "      <th>156</th>\n",
       "      <td>Wii Play</td>\n",
       "      <td>14.66</td>\n",
       "    </tr>\n",
       "    <tr>\n",
       "      <th>833</th>\n",
       "      <td>Mario Kart Wii</td>\n",
       "      <td>12.39</td>\n",
       "    </tr>\n",
       "    <tr>\n",
       "      <th>157</th>\n",
       "      <td>New Super Mario Bros.</td>\n",
       "      <td>10.03</td>\n",
       "    </tr>\n",
       "    <tr>\n",
       "      <th>22</th>\n",
       "      <td>Mario Kart DS</td>\n",
       "      <td>9.99</td>\n",
       "    </tr>\n",
       "    <tr>\n",
       "      <th>23</th>\n",
       "      <td>Nintendogs</td>\n",
       "      <td>9.72</td>\n",
       "    </tr>\n",
       "    <tr>\n",
       "      <th>...</th>\n",
       "      <td>...</td>\n",
       "      <td>...</td>\n",
       "    </tr>\n",
       "    <tr>\n",
       "      <th>826</th>\n",
       "      <td>Sea Monsters: A Prehistoric Adventure</td>\n",
       "      <td>0.01</td>\n",
       "    </tr>\n",
       "    <tr>\n",
       "      <th>825</th>\n",
       "      <td>Nervous Brickdown</td>\n",
       "      <td>0.01</td>\n",
       "    </tr>\n",
       "    <tr>\n",
       "      <th>824</th>\n",
       "      <td>Lost in Blue 2</td>\n",
       "      <td>0.01</td>\n",
       "    </tr>\n",
       "    <tr>\n",
       "      <th>153</th>\n",
       "      <td>Electroplankton</td>\n",
       "      <td>0.01</td>\n",
       "    </tr>\n",
       "    <tr>\n",
       "      <th>418</th>\n",
       "      <td>Spider-Man 3</td>\n",
       "      <td>0.01</td>\n",
       "    </tr>\n",
       "  </tbody>\n",
       "</table>\n",
       "<p>1212 rows × 2 columns</p>\n",
       "</div>"
      ],
      "text/plain": [
       "                                     Title  Metrics.Sales\n",
       "156                               Wii Play          14.66\n",
       "833                         Mario Kart Wii          12.39\n",
       "157                  New Super Mario Bros.          10.03\n",
       "22                           Mario Kart DS           9.99\n",
       "23                              Nintendogs           9.72\n",
       "..                                     ...            ...\n",
       "826  Sea Monsters: A Prehistoric Adventure           0.01\n",
       "825                      Nervous Brickdown           0.01\n",
       "824                         Lost in Blue 2           0.01\n",
       "153                        Electroplankton           0.01\n",
       "418                           Spider-Man 3           0.01\n",
       "\n",
       "[1212 rows x 2 columns]"
      ]
     },
     "execution_count": 7,
     "metadata": {},
     "output_type": "execute_result"
    }
   ],
   "source": [
    "#hide-input\n",
    "df[['Title', 'Metrics.Sales']].sort_values('Metrics.Sales', ascending = False) "
   ]
  },
  {
   "cell_type": "markdown",
   "id": "84af4aba-e821-442d-95f9-b9c6b341ff44",
   "metadata": {},
   "source": [
    "### 3. What games have the most number of people who report completing the game? \n",
    "    * will be skewed based on how many people played the game "
   ]
  },
  {
   "cell_type": "code",
   "execution_count": 8,
   "id": "c9c73069-e3e4-4131-93ed-ad88c682fe00",
   "metadata": {},
   "outputs": [
    {
     "data": {
      "text/html": [
       "<div>\n",
       "<style scoped>\n",
       "    .dataframe tbody tr th:only-of-type {\n",
       "        vertical-align: middle;\n",
       "    }\n",
       "\n",
       "    .dataframe tbody tr th {\n",
       "        vertical-align: top;\n",
       "    }\n",
       "\n",
       "    .dataframe thead th {\n",
       "        text-align: right;\n",
       "    }\n",
       "</style>\n",
       "<table border=\"1\" class=\"dataframe\">\n",
       "  <thead>\n",
       "    <tr style=\"text-align: right;\">\n",
       "      <th></th>\n",
       "      <th>Title</th>\n",
       "      <th>Length.Completionists.Polled</th>\n",
       "    </tr>\n",
       "  </thead>\n",
       "  <tbody>\n",
       "    <tr>\n",
       "      <th>442</th>\n",
       "      <td>Mass Effect</td>\n",
       "      <td>379</td>\n",
       "    </tr>\n",
       "    <tr>\n",
       "      <th>444</th>\n",
       "      <td>BioShock</td>\n",
       "      <td>214</td>\n",
       "    </tr>\n",
       "    <tr>\n",
       "      <th>922</th>\n",
       "      <td>BioShock</td>\n",
       "      <td>214</td>\n",
       "    </tr>\n",
       "    <tr>\n",
       "      <th>845</th>\n",
       "      <td>Fallout 3</td>\n",
       "      <td>146</td>\n",
       "    </tr>\n",
       "    <tr>\n",
       "      <th>862</th>\n",
       "      <td>Fallout 3</td>\n",
       "      <td>146</td>\n",
       "    </tr>\n",
       "    <tr>\n",
       "      <th>...</th>\n",
       "      <td>...</td>\n",
       "      <td>...</td>\n",
       "    </tr>\n",
       "    <tr>\n",
       "      <th>791</th>\n",
       "      <td>Heatseeker</td>\n",
       "      <td>0</td>\n",
       "    </tr>\n",
       "    <tr>\n",
       "      <th>789</th>\n",
       "      <td>Fantastic Four: Rise of the Silver Surfer</td>\n",
       "      <td>0</td>\n",
       "    </tr>\n",
       "    <tr>\n",
       "      <th>788</th>\n",
       "      <td>Bubble Bobble Double Shot</td>\n",
       "      <td>0</td>\n",
       "    </tr>\n",
       "    <tr>\n",
       "      <th>787</th>\n",
       "      <td>Brothers in Arms DS</td>\n",
       "      <td>0</td>\n",
       "    </tr>\n",
       "    <tr>\n",
       "      <th>606</th>\n",
       "      <td>DK: Jungle Climber</td>\n",
       "      <td>0</td>\n",
       "    </tr>\n",
       "  </tbody>\n",
       "</table>\n",
       "<p>1212 rows × 2 columns</p>\n",
       "</div>"
      ],
      "text/plain": [
       "                                         Title  Length.Completionists.Polled\n",
       "442                                Mass Effect                           379\n",
       "444                                   BioShock                           214\n",
       "922                                   BioShock                           214\n",
       "845                                  Fallout 3                           146\n",
       "862                                  Fallout 3                           146\n",
       "..                                         ...                           ...\n",
       "791                                 Heatseeker                             0\n",
       "789  Fantastic Four: Rise of the Silver Surfer                             0\n",
       "788                  Bubble Bobble Double Shot                             0\n",
       "787                        Brothers in Arms DS                             0\n",
       "606                         DK: Jungle Climber                             0\n",
       "\n",
       "[1212 rows x 2 columns]"
      ]
     },
     "execution_count": 8,
     "metadata": {},
     "output_type": "execute_result"
    }
   ],
   "source": [
    "#hide-input\n",
    "df[['Title', 'Length.Completionists.Polled']].sort_values ('Length.Completionists.Polled', ascending = False) "
   ]
  },
  {
   "cell_type": "markdown",
   "id": "6949a327-8b91-4dea-9fc9-5a81f6651008",
   "metadata": {},
   "source": [
    "### 4. What genre of game was popular on the market during this time period (2004-2010)? "
   ]
  },
  {
   "cell_type": "code",
   "execution_count": 9,
   "id": "092e7220-7d56-42ee-ad1a-9ab218f70b0d",
   "metadata": {
    "tags": []
   },
   "outputs": [
    {
     "data": {
      "text/plain": [
       "Action                                                  476\n",
       "Sports                                                  166\n",
       "Strategy                                                 62\n",
       "Action,Role-Playing (RPG)                                55\n",
       "Racing / Driving                                         53\n",
       "Role-Playing (RPG)                                       52\n",
       "Action,Strategy                                          45\n",
       "Action,Racing / Driving                                  40\n",
       "Simulation                                               30\n",
       "Action,Simulation                                        28\n",
       "Action,Adventure                                         28\n",
       "Adventure                                                21\n",
       "Role-Playing (RPG),Strategy                              20\n",
       "Action,Sports                                            20\n",
       "Racing / Driving,Sports                                  19\n",
       "Simulation,Strategy                                      12\n",
       "Racing / Driving,Simulation,Sports                        9\n",
       "Racing / Driving,Simulation                               6\n",
       "Adventure,Simulation                                      6\n",
       "Action,Racing / Driving,Sports                            6\n",
       "Action,Simulation,Sports                                  6\n",
       "Action,Role-Playing (RPG),Strategy                        5\n",
       "Role-Playing (RPG),Simulation                             5\n",
       "Action,Adventure,Role-Playing (RPG)                       4\n",
       "Adventure,Role-Playing (RPG)                              4\n",
       "Simulation,Sports                                         3\n",
       "Action,Racing / Driving,Role-Playing (RPG)                3\n",
       "Action,Adventure,Racing / Driving                         3\n",
       "Adventure,Role-Playing (RPG),Strategy                     2\n",
       "Educational                                               2\n",
       "Action,Simulation,Strategy                                2\n",
       "Simulation,Sports,Strategy                                2\n",
       "Action,Adventure,Racing / Driving,Sports                  2\n",
       "Adventure,Simulation,Sports                               1\n",
       "Action,Role-Playing (RPG),Simulation                      1\n",
       "Action,Racing / Driving,Sports,Strategy                   1\n",
       "Action,Educational                                        1\n",
       "Racing / Driving,Simulation,Strategy                      1\n",
       "Role-Playing (RPG),Simulation,Strategy                    1\n",
       "Educational,Simulation                                    1\n",
       "Educational,Strategy                                      1\n",
       "Adventure,Educational,Strategy                            1\n",
       "Educational,Sports                                        1\n",
       "Action,Role-Playing (RPG),Simulation,Sports,Strategy      1\n",
       "Action,Racing / Driving,Role-Playing (RPG),Strategy       1\n",
       "Action,Racing / Driving,Simulation                        1\n",
       "Sports,Strategy                                           1\n",
       "Action,Adventure,Strategy                                 1\n",
       "Name: Metadata.Genres, dtype: int64"
      ]
     },
     "execution_count": 9,
     "metadata": {},
     "output_type": "execute_result"
    }
   ],
   "source": [
    "#collapse-output\n",
    "df['Metadata.Genres'].value_counts()"
   ]
  },
  {
   "cell_type": "markdown",
   "id": "87854fb7-f5ab-483f-9e1a-bce4337611a8",
   "metadata": {},
   "source": [
    "### I would like to take the \"top games\" from questions 1-3 and get a closer look at these titles, since they are considered \"top performing\" in their respective categories. "
   ]
  },
  {
   "cell_type": "code",
   "execution_count": 10,
   "id": "2244d925-74fa-4686-bbfd-631fe2e82771",
   "metadata": {
    "tags": []
   },
   "outputs": [
    {
     "data": {
      "text/plain": [
       "Title                                Grand Theft Auto IV\n",
       "Features.Handheld?                                  True\n",
       "Features.Max Players                                   1\n",
       "Features.Multiplatform?                             True\n",
       "Features.Online?                                    True\n",
       "Metadata.Genres                  Action,Racing / Driving\n",
       "Metadata.Licensed?                                  True\n",
       "Metadata.Publishers                             Rockstar\n",
       "Metadata.Sequel?                                    True\n",
       "Metrics.Review Score                                  98\n",
       "Metrics.Sales                                       3.91\n",
       "Metrics.Used Price                                 24.95\n",
       "Release.Console                            PlayStation 3\n",
       "Release.Rating                                         E\n",
       "Release.Re-release?                                 True\n",
       "Release.Year                                        2008\n",
       "Length.All PlayStyles.Average                  38.883333\n",
       "Length.All PlayStyles.Leisure                 152.716667\n",
       "Length.All PlayStyles.Median                        32.0\n",
       "Length.All PlayStyles.Polled                         824\n",
       "Length.All PlayStyles.Rushed                   21.716667\n",
       "Length.Completionists.Average                      82.95\n",
       "Length.Completionists.Leisure                 175.733333\n",
       "Length.Completionists.Median                        80.0\n",
       "Length.Completionists.Polled                          73\n",
       "Length.Completionists.Rushed                   53.233333\n",
       "Length.Main + Extras.Average                   41.866667\n",
       "Length.Main + Extras.Leisure                   71.966667\n",
       "Length.Main + Extras.Median                         40.0\n",
       "Length.Main + Extras.Polled                          350\n",
       "Length.Main + Extras.Rushed                    28.466667\n",
       "Length.Main Story.Average                          28.25\n",
       "Length.Main Story.Leisure                      46.883333\n",
       "Length.Main Story.Median                            28.0\n",
       "Length.Main Story.Polled                             401\n",
       "Length.Main Story.Rushed                           18.05\n",
       "Name: 837, dtype: object"
      ]
     },
     "execution_count": 10,
     "metadata": {},
     "output_type": "execute_result"
    }
   ],
   "source": [
    "#collapse-output\n",
    "df.iloc[837]"
   ]
  },
  {
   "cell_type": "code",
   "execution_count": 11,
   "id": "6168fea4-cc42-451a-af0b-df41ccef3cef",
   "metadata": {
    "tags": []
   },
   "outputs": [
    {
     "data": {
      "text/plain": [
       "Title                                 Wii Play\n",
       "Features.Handheld?                        True\n",
       "Features.Max Players                         2\n",
       "Features.Multiplatform?                   True\n",
       "Features.Online?                          True\n",
       "Metadata.Genres                  Action,Sports\n",
       "Metadata.Licensed?                        True\n",
       "Metadata.Publishers                   Nintendo\n",
       "Metadata.Sequel?                          True\n",
       "Metrics.Review Score                        58\n",
       "Metrics.Sales                            14.66\n",
       "Metrics.Used Price                       14.95\n",
       "Release.Console                   Nintendo Wii\n",
       "Release.Rating                               T\n",
       "Release.Re-release?                       True\n",
       "Release.Year                              2006\n",
       "Length.All PlayStyles.Average         5.816667\n",
       "Length.All PlayStyles.Leisure             8.45\n",
       "Length.All PlayStyles.Median               4.0\n",
       "Length.All PlayStyles.Polled                11\n",
       "Length.All PlayStyles.Rushed          3.316667\n",
       "Length.Completionists.Average              0.0\n",
       "Length.Completionists.Leisure              0.0\n",
       "Length.Completionists.Median               0.0\n",
       "Length.Completionists.Polled                 0\n",
       "Length.Completionists.Rushed               0.0\n",
       "Length.Main + Extras.Average         10.466667\n",
       "Length.Main + Extras.Leisure         11.466667\n",
       "Length.Main + Extras.Median          11.416667\n",
       "Length.Main + Extras.Polled                  3\n",
       "Length.Main + Extras.Rushed           9.466667\n",
       "Length.Main Story.Average             4.083333\n",
       "Length.Main Story.Leisure             5.016667\n",
       "Length.Main Story.Median                   4.0\n",
       "Length.Main Story.Polled                     8\n",
       "Length.Main Story.Rushed              2.883333\n",
       "Name: 156, dtype: object"
      ]
     },
     "execution_count": 11,
     "metadata": {},
     "output_type": "execute_result"
    }
   ],
   "source": [
    "#collapse-output\n",
    "df.iloc[156]"
   ]
  },
  {
   "cell_type": "code",
   "execution_count": 12,
   "id": "b5fa296c-dfcb-4961-bc04-5ae58649966c",
   "metadata": {
    "tags": []
   },
   "outputs": [
    {
     "data": {
      "text/plain": [
       "Title                                          Mass Effect\n",
       "Features.Handheld?                                    True\n",
       "Features.Max Players                                     1\n",
       "Features.Multiplatform?                               True\n",
       "Features.Online?                                      True\n",
       "Metadata.Genres                  Action,Role-Playing (RPG)\n",
       "Metadata.Licensed?                                    True\n",
       "Metadata.Publishers                              Microsoft\n",
       "Metadata.Sequel?                                      True\n",
       "Metrics.Review Score                                    91\n",
       "Metrics.Sales                                         1.57\n",
       "Metrics.Used Price                                   17.95\n",
       "Release.Console                                       X360\n",
       "Release.Rating                                           T\n",
       "Release.Re-release?                                   True\n",
       "Release.Year                                          2007\n",
       "Length.All PlayStyles.Average                    28.066667\n",
       "Length.All PlayStyles.Leisure                   113.266667\n",
       "Length.All PlayStyles.Median                          25.0\n",
       "Length.All PlayStyles.Polled                          2300\n",
       "Length.All PlayStyles.Rushed                     16.333333\n",
       "Length.Completionists.Average                    44.783333\n",
       "Length.Completionists.Leisure                        121.4\n",
       "Length.Completionists.Median                     40.833333\n",
       "Length.Completionists.Polled                           379\n",
       "Length.Completionists.Rushed                     28.533333\n",
       "Length.Main + Extras.Average                     29.733333\n",
       "Length.Main + Extras.Leisure                     60.933333\n",
       "Length.Main + Extras.Median                           28.0\n",
       "Length.Main + Extras.Polled                           1100\n",
       "Length.Main + Extras.Rushed                      18.766667\n",
       "Length.Main Story.Average                        17.383333\n",
       "Length.Main Story.Leisure                        69.966667\n",
       "Length.Main Story.Median                              16.5\n",
       "Length.Main Story.Polled                               769\n",
       "Length.Main Story.Rushed                         11.533333\n",
       "Name: 442, dtype: object"
      ]
     },
     "execution_count": 12,
     "metadata": {},
     "output_type": "execute_result"
    }
   ],
   "source": [
    "#collapse-output\n",
    "df.iloc[442]"
   ]
  },
  {
   "cell_type": "code",
   "execution_count": 13,
   "id": "7feb4338-fe6e-461c-a8cd-22eb4f7d4c0e",
   "metadata": {},
   "outputs": [
    {
     "data": {
      "text/html": [
       "<div>\n",
       "<style scoped>\n",
       "    .dataframe tbody tr th:only-of-type {\n",
       "        vertical-align: middle;\n",
       "    }\n",
       "\n",
       "    .dataframe tbody tr th {\n",
       "        vertical-align: top;\n",
       "    }\n",
       "\n",
       "    .dataframe thead th {\n",
       "        text-align: right;\n",
       "    }\n",
       "</style>\n",
       "<table border=\"1\" class=\"dataframe\">\n",
       "  <thead>\n",
       "    <tr style=\"text-align: right;\">\n",
       "      <th></th>\n",
       "      <th>Title</th>\n",
       "      <th>Features.Handheld?</th>\n",
       "      <th>Features.Max Players</th>\n",
       "      <th>Features.Multiplatform?</th>\n",
       "      <th>Features.Online?</th>\n",
       "      <th>Metadata.Genres</th>\n",
       "      <th>Metadata.Licensed?</th>\n",
       "      <th>Metadata.Publishers</th>\n",
       "      <th>Metadata.Sequel?</th>\n",
       "      <th>Metrics.Review Score</th>\n",
       "      <th>...</th>\n",
       "      <th>Length.Main + Extras.Average</th>\n",
       "      <th>Length.Main + Extras.Leisure</th>\n",
       "      <th>Length.Main + Extras.Median</th>\n",
       "      <th>Length.Main + Extras.Polled</th>\n",
       "      <th>Length.Main + Extras.Rushed</th>\n",
       "      <th>Length.Main Story.Average</th>\n",
       "      <th>Length.Main Story.Leisure</th>\n",
       "      <th>Length.Main Story.Median</th>\n",
       "      <th>Length.Main Story.Polled</th>\n",
       "      <th>Length.Main Story.Rushed</th>\n",
       "    </tr>\n",
       "  </thead>\n",
       "  <tbody>\n",
       "    <tr>\n",
       "      <th>837</th>\n",
       "      <td>Grand Theft Auto IV</td>\n",
       "      <td>True</td>\n",
       "      <td>1</td>\n",
       "      <td>True</td>\n",
       "      <td>True</td>\n",
       "      <td>Action,Racing / Driving</td>\n",
       "      <td>True</td>\n",
       "      <td>Rockstar</td>\n",
       "      <td>True</td>\n",
       "      <td>98</td>\n",
       "      <td>...</td>\n",
       "      <td>41.866667</td>\n",
       "      <td>71.966667</td>\n",
       "      <td>40.000000</td>\n",
       "      <td>350</td>\n",
       "      <td>28.466667</td>\n",
       "      <td>28.250000</td>\n",
       "      <td>46.883333</td>\n",
       "      <td>28.0</td>\n",
       "      <td>401</td>\n",
       "      <td>18.050000</td>\n",
       "    </tr>\n",
       "    <tr>\n",
       "      <th>156</th>\n",
       "      <td>Wii Play</td>\n",
       "      <td>True</td>\n",
       "      <td>2</td>\n",
       "      <td>True</td>\n",
       "      <td>True</td>\n",
       "      <td>Action,Sports</td>\n",
       "      <td>True</td>\n",
       "      <td>Nintendo</td>\n",
       "      <td>True</td>\n",
       "      <td>58</td>\n",
       "      <td>...</td>\n",
       "      <td>10.466667</td>\n",
       "      <td>11.466667</td>\n",
       "      <td>11.416667</td>\n",
       "      <td>3</td>\n",
       "      <td>9.466667</td>\n",
       "      <td>4.083333</td>\n",
       "      <td>5.016667</td>\n",
       "      <td>4.0</td>\n",
       "      <td>8</td>\n",
       "      <td>2.883333</td>\n",
       "    </tr>\n",
       "    <tr>\n",
       "      <th>442</th>\n",
       "      <td>Mass Effect</td>\n",
       "      <td>True</td>\n",
       "      <td>1</td>\n",
       "      <td>True</td>\n",
       "      <td>True</td>\n",
       "      <td>Action,Role-Playing (RPG)</td>\n",
       "      <td>True</td>\n",
       "      <td>Microsoft</td>\n",
       "      <td>True</td>\n",
       "      <td>91</td>\n",
       "      <td>...</td>\n",
       "      <td>29.733333</td>\n",
       "      <td>60.933333</td>\n",
       "      <td>28.000000</td>\n",
       "      <td>1100</td>\n",
       "      <td>18.766667</td>\n",
       "      <td>17.383333</td>\n",
       "      <td>69.966667</td>\n",
       "      <td>16.5</td>\n",
       "      <td>769</td>\n",
       "      <td>11.533333</td>\n",
       "    </tr>\n",
       "  </tbody>\n",
       "</table>\n",
       "<p>3 rows × 36 columns</p>\n",
       "</div>"
      ],
      "text/plain": [
       "                   Title  Features.Handheld?  Features.Max Players  \\\n",
       "837  Grand Theft Auto IV                True                     1   \n",
       "156             Wii Play                True                     2   \n",
       "442          Mass Effect                True                     1   \n",
       "\n",
       "     Features.Multiplatform?  Features.Online?            Metadata.Genres  \\\n",
       "837                     True              True    Action,Racing / Driving   \n",
       "156                     True              True              Action,Sports   \n",
       "442                     True              True  Action,Role-Playing (RPG)   \n",
       "\n",
       "     Metadata.Licensed? Metadata.Publishers  Metadata.Sequel?  \\\n",
       "837                True            Rockstar              True   \n",
       "156                True            Nintendo              True   \n",
       "442                True           Microsoft              True   \n",
       "\n",
       "     Metrics.Review Score  ...  Length.Main + Extras.Average  \\\n",
       "837                    98  ...                     41.866667   \n",
       "156                    58  ...                     10.466667   \n",
       "442                    91  ...                     29.733333   \n",
       "\n",
       "     Length.Main + Extras.Leisure Length.Main + Extras.Median  \\\n",
       "837                     71.966667                   40.000000   \n",
       "156                     11.466667                   11.416667   \n",
       "442                     60.933333                   28.000000   \n",
       "\n",
       "    Length.Main + Extras.Polled  Length.Main + Extras.Rushed  \\\n",
       "837                         350                    28.466667   \n",
       "156                           3                     9.466667   \n",
       "442                        1100                    18.766667   \n",
       "\n",
       "     Length.Main Story.Average  Length.Main Story.Leisure  \\\n",
       "837                  28.250000                  46.883333   \n",
       "156                   4.083333                   5.016667   \n",
       "442                  17.383333                  69.966667   \n",
       "\n",
       "     Length.Main Story.Median  Length.Main Story.Polled  \\\n",
       "837                      28.0                       401   \n",
       "156                       4.0                         8   \n",
       "442                      16.5                       769   \n",
       "\n",
       "     Length.Main Story.Rushed  \n",
       "837                 18.050000  \n",
       "156                  2.883333  \n",
       "442                 11.533333  \n",
       "\n",
       "[3 rows x 36 columns]"
      ]
     },
     "execution_count": 13,
     "metadata": {},
     "output_type": "execute_result"
    }
   ],
   "source": [
    "#hide-input\n",
    "df.iloc[[837,156,442]]"
   ]
  },
  {
   "cell_type": "markdown",
   "id": "2897b520-5da1-4370-8b12-906d04f1c2b5",
   "metadata": {},
   "source": [
    "Observed similarities and differences: \n",
    "   1. Action as one of the genres, though none fall exclusively into action only. \n",
    "   2. All 3 were a sequel of some kind, and based off of a previously licensed entity. \n",
    "   3. Max players do not go above 2, two of the three games are only single-player. \n",
    "   4. All games came from different publishers. \n",
    "   5. All released for different consoles. "
   ]
  },
  {
   "cell_type": "markdown",
   "id": "d85bf1b6-3895-4b1c-b570-407e72047903",
   "metadata": {},
   "source": [
    "Because I am interested in the intersection of video games and pedagogy, I wanted to see the games that were considered \"Educational.\" \n",
    "   * These were only the titles exclusively listed as 'Educational' as the genre"
   ]
  },
  {
   "cell_type": "code",
   "execution_count": 14,
   "id": "ac9dd5b0-7e32-4ff4-8348-2d82c996fda4",
   "metadata": {},
   "outputs": [
    {
     "data": {
      "text/html": [
       "<div>\n",
       "<style scoped>\n",
       "    .dataframe tbody tr th:only-of-type {\n",
       "        vertical-align: middle;\n",
       "    }\n",
       "\n",
       "    .dataframe tbody tr th {\n",
       "        vertical-align: top;\n",
       "    }\n",
       "\n",
       "    .dataframe thead th {\n",
       "        text-align: right;\n",
       "    }\n",
       "</style>\n",
       "<table border=\"1\" class=\"dataframe\">\n",
       "  <thead>\n",
       "    <tr style=\"text-align: right;\">\n",
       "      <th></th>\n",
       "      <th>Title</th>\n",
       "      <th>Features.Handheld?</th>\n",
       "      <th>Features.Max Players</th>\n",
       "      <th>Features.Multiplatform?</th>\n",
       "      <th>Features.Online?</th>\n",
       "      <th>Metadata.Genres</th>\n",
       "      <th>Metadata.Licensed?</th>\n",
       "      <th>Metadata.Publishers</th>\n",
       "      <th>Metadata.Sequel?</th>\n",
       "      <th>Metrics.Review Score</th>\n",
       "      <th>...</th>\n",
       "      <th>Length.Main + Extras.Average</th>\n",
       "      <th>Length.Main + Extras.Leisure</th>\n",
       "      <th>Length.Main + Extras.Median</th>\n",
       "      <th>Length.Main + Extras.Polled</th>\n",
       "      <th>Length.Main + Extras.Rushed</th>\n",
       "      <th>Length.Main Story.Average</th>\n",
       "      <th>Length.Main Story.Leisure</th>\n",
       "      <th>Length.Main Story.Median</th>\n",
       "      <th>Length.Main Story.Polled</th>\n",
       "      <th>Length.Main Story.Rushed</th>\n",
       "    </tr>\n",
       "  </thead>\n",
       "  <tbody>\n",
       "    <tr>\n",
       "      <th>549</th>\n",
       "      <td>My Word Coach</td>\n",
       "      <td>True</td>\n",
       "      <td>1</td>\n",
       "      <td>True</td>\n",
       "      <td>True</td>\n",
       "      <td>Educational</td>\n",
       "      <td>True</td>\n",
       "      <td>Ubisoft</td>\n",
       "      <td>True</td>\n",
       "      <td>71</td>\n",
       "      <td>...</td>\n",
       "      <td>0.0</td>\n",
       "      <td>0.0</td>\n",
       "      <td>0.0</td>\n",
       "      <td>0</td>\n",
       "      <td>0.0</td>\n",
       "      <td>0.0</td>\n",
       "      <td>0.0</td>\n",
       "      <td>0.0</td>\n",
       "      <td>0</td>\n",
       "      <td>0.0</td>\n",
       "    </tr>\n",
       "    <tr>\n",
       "      <th>1000</th>\n",
       "      <td>MX vs. ATV Untamed</td>\n",
       "      <td>True</td>\n",
       "      <td>1</td>\n",
       "      <td>True</td>\n",
       "      <td>True</td>\n",
       "      <td>Educational</td>\n",
       "      <td>True</td>\n",
       "      <td>Ubisoft</td>\n",
       "      <td>True</td>\n",
       "      <td>59</td>\n",
       "      <td>...</td>\n",
       "      <td>0.0</td>\n",
       "      <td>0.0</td>\n",
       "      <td>0.0</td>\n",
       "      <td>0</td>\n",
       "      <td>0.0</td>\n",
       "      <td>12.0</td>\n",
       "      <td>12.0</td>\n",
       "      <td>12.0</td>\n",
       "      <td>1</td>\n",
       "      <td>12.0</td>\n",
       "    </tr>\n",
       "  </tbody>\n",
       "</table>\n",
       "<p>2 rows × 36 columns</p>\n",
       "</div>"
      ],
      "text/plain": [
       "                   Title  Features.Handheld?  Features.Max Players  \\\n",
       "549        My Word Coach                True                     1   \n",
       "1000  MX vs. ATV Untamed                True                     1   \n",
       "\n",
       "      Features.Multiplatform?  Features.Online? Metadata.Genres  \\\n",
       "549                      True              True     Educational   \n",
       "1000                     True              True     Educational   \n",
       "\n",
       "      Metadata.Licensed? Metadata.Publishers  Metadata.Sequel?  \\\n",
       "549                 True             Ubisoft              True   \n",
       "1000                True             Ubisoft              True   \n",
       "\n",
       "      Metrics.Review Score  ...  Length.Main + Extras.Average  \\\n",
       "549                     71  ...                           0.0   \n",
       "1000                    59  ...                           0.0   \n",
       "\n",
       "      Length.Main + Extras.Leisure Length.Main + Extras.Median  \\\n",
       "549                            0.0                         0.0   \n",
       "1000                           0.0                         0.0   \n",
       "\n",
       "     Length.Main + Extras.Polled  Length.Main + Extras.Rushed  \\\n",
       "549                            0                          0.0   \n",
       "1000                           0                          0.0   \n",
       "\n",
       "      Length.Main Story.Average  Length.Main Story.Leisure  \\\n",
       "549                         0.0                        0.0   \n",
       "1000                       12.0                       12.0   \n",
       "\n",
       "      Length.Main Story.Median  Length.Main Story.Polled  \\\n",
       "549                        0.0                         0   \n",
       "1000                      12.0                         1   \n",
       "\n",
       "      Length.Main Story.Rushed  \n",
       "549                        0.0  \n",
       "1000                      12.0  \n",
       "\n",
       "[2 rows x 36 columns]"
      ]
     },
     "execution_count": 14,
     "metadata": {},
     "output_type": "execute_result"
    }
   ],
   "source": [
    "#hide-input\n",
    "df[df['Metadata.Genres'] == 'Educational']"
   ]
  },
  {
   "cell_type": "code",
   "execution_count": 15,
   "id": "901d2072-7021-433c-b2f3-9ff0607ec4e8",
   "metadata": {
    "tags": []
   },
   "outputs": [
    {
     "data": {
      "text/plain": [
       "Title                            My Word Coach\n",
       "Features.Handheld?                        True\n",
       "Features.Max Players                         1\n",
       "Features.Multiplatform?                   True\n",
       "Features.Online?                          True\n",
       "Metadata.Genres                    Educational\n",
       "Metadata.Licensed?                        True\n",
       "Metadata.Publishers                    Ubisoft\n",
       "Metadata.Sequel?                          True\n",
       "Metrics.Review Score                        71\n",
       "Metrics.Sales                             0.37\n",
       "Metrics.Used Price                       15.95\n",
       "Release.Console                    Nintendo DS\n",
       "Release.Rating                               T\n",
       "Release.Re-release?                       True\n",
       "Release.Year                              2007\n",
       "Length.All PlayStyles.Average              0.0\n",
       "Length.All PlayStyles.Leisure              0.0\n",
       "Length.All PlayStyles.Median               0.0\n",
       "Length.All PlayStyles.Polled                 0\n",
       "Length.All PlayStyles.Rushed               0.0\n",
       "Length.Completionists.Average              0.0\n",
       "Length.Completionists.Leisure              0.0\n",
       "Length.Completionists.Median               0.0\n",
       "Length.Completionists.Polled                 0\n",
       "Length.Completionists.Rushed               0.0\n",
       "Length.Main + Extras.Average               0.0\n",
       "Length.Main + Extras.Leisure               0.0\n",
       "Length.Main + Extras.Median                0.0\n",
       "Length.Main + Extras.Polled                  0\n",
       "Length.Main + Extras.Rushed                0.0\n",
       "Length.Main Story.Average                  0.0\n",
       "Length.Main Story.Leisure                  0.0\n",
       "Length.Main Story.Median                   0.0\n",
       "Length.Main Story.Polled                     0\n",
       "Length.Main Story.Rushed                   0.0\n",
       "Name: 549, dtype: object"
      ]
     },
     "execution_count": 15,
     "metadata": {},
     "output_type": "execute_result"
    }
   ],
   "source": [
    "#collapse-output\n",
    "df.iloc[549]"
   ]
  },
  {
   "cell_type": "code",
   "execution_count": 16,
   "id": "9d67b3b8-e4a0-4fb3-a59f-d11efea13bee",
   "metadata": {
    "tags": []
   },
   "outputs": [
    {
     "data": {
      "text/plain": [
       "Title                            MX vs. ATV Untamed\n",
       "Features.Handheld?                             True\n",
       "Features.Max Players                              1\n",
       "Features.Multiplatform?                        True\n",
       "Features.Online?                               True\n",
       "Metadata.Genres                         Educational\n",
       "Metadata.Licensed?                             True\n",
       "Metadata.Publishers                         Ubisoft\n",
       "Metadata.Sequel?                               True\n",
       "Metrics.Review Score                             59\n",
       "Metrics.Sales                                  0.27\n",
       "Metrics.Used Price                            16.95\n",
       "Release.Console                            Sony PSP\n",
       "Release.Rating                                    T\n",
       "Release.Re-release?                            True\n",
       "Release.Year                                   2008\n",
       "Length.All PlayStyles.Average                  12.0\n",
       "Length.All PlayStyles.Leisure                  12.0\n",
       "Length.All PlayStyles.Median                   12.0\n",
       "Length.All PlayStyles.Polled                      1\n",
       "Length.All PlayStyles.Rushed                   12.0\n",
       "Length.Completionists.Average                   0.0\n",
       "Length.Completionists.Leisure                   0.0\n",
       "Length.Completionists.Median                    0.0\n",
       "Length.Completionists.Polled                      0\n",
       "Length.Completionists.Rushed                    0.0\n",
       "Length.Main + Extras.Average                    0.0\n",
       "Length.Main + Extras.Leisure                    0.0\n",
       "Length.Main + Extras.Median                     0.0\n",
       "Length.Main + Extras.Polled                       0\n",
       "Length.Main + Extras.Rushed                     0.0\n",
       "Length.Main Story.Average                      12.0\n",
       "Length.Main Story.Leisure                      12.0\n",
       "Length.Main Story.Median                       12.0\n",
       "Length.Main Story.Polled                          1\n",
       "Length.Main Story.Rushed                       12.0\n",
       "Name: 1000, dtype: object"
      ]
     },
     "execution_count": 16,
     "metadata": {},
     "output_type": "execute_result"
    }
   ],
   "source": [
    "#collapse-output\n",
    "df.iloc[1000]"
   ]
  },
  {
   "cell_type": "markdown",
   "id": "4a208821-a16e-486b-8643-a1d901595883",
   "metadata": {},
   "source": [
    "Takeaways from initial data exploration: \n",
    "1. Because of the saturation of Action games, I would like to take a closer look at the metrics for success in that specific genre, as well as the other genres that are well-represented in the market. \n",
    "2. Because the games that were successful in these categories were all sequels of some kind, I think it would be interested to investigate if there are any titles that were successful without being a sequel, which would speak to the degree to which a factor like nostalgia or investment in a story/ universe contribute to a title's success. \n",
    "3. Because these three games did not have a max player capacity above 2, are there any titles that support multiplayer that are also finding success? \n",
    "4. Are there certain publishers or consoles that are finding more general success with their titles than others? "
   ]
  },
  {
   "cell_type": "markdown",
   "id": "1a6265ce-3f5f-4e37-bb5b-7d4af95f0474",
   "metadata": {},
   "source": [
    "## **Further Exploration** "
   ]
  },
  {
   "cell_type": "markdown",
   "id": "4e2c49be-83eb-4b41-b400-be7bc3bfd77c",
   "metadata": {},
   "source": [
    "Based on the preliminary findings from my first data exploration, I would like to take a closer look at the data in certain places. "
   ]
  },
  {
   "cell_type": "markdown",
   "id": "955a8a34-9600-4129-80a5-abfda0c0420d",
   "metadata": {},
   "source": [
    "### Defining Success \n",
    "Using the metrics I established previously, I would like to examine the top-performing games in the categories of critic reviews, sales, and number of completionists. "
   ]
  },
  {
   "cell_type": "markdown",
   "id": "78698e17-c1c7-498a-b22a-59d8728daf3b",
   "metadata": {},
   "source": [
    "### 1. Critic Reviews "
   ]
  },
  {
   "cell_type": "code",
   "execution_count": 17,
   "id": "cd82ba20-f2ea-4bf2-a4ae-b99dad10dccf",
   "metadata": {},
   "outputs": [],
   "source": [
    "#hide\n",
    "df_reviews = df[['Title','Metrics.Review Score']]"
   ]
  },
  {
   "cell_type": "code",
   "execution_count": 18,
   "id": "03facc7e-303c-43b5-a66d-43a53a3cf59f",
   "metadata": {},
   "outputs": [],
   "source": [
    "#hide\n",
    "df_reviews_top = df_reviews[df_reviews['Metrics.Review Score'] > 90].sort_values('Metrics.Review Score', ascending = False)"
   ]
  },
  {
   "cell_type": "code",
   "execution_count": 19,
   "id": "c07858d8-b56c-4fab-908c-acc158d475f5",
   "metadata": {},
   "outputs": [
    {
     "data": {
      "text/plain": [
       "Int64Index([837, 834, 422, 462, 444, 844, 161, 165, 420, 421, 430, 922, 840,\n",
       "            160, 835, 838, 453, 845, 865, 851, 927, 464, 436, 435, 452, 442,\n",
       "            861, 874,  22],\n",
       "           dtype='int64')"
      ]
     },
     "execution_count": 19,
     "metadata": {},
     "output_type": "execute_result"
    }
   ],
   "source": [
    "#hide\n",
    "df_reviews_top.index"
   ]
  },
  {
   "cell_type": "code",
   "execution_count": 20,
   "id": "56b1fe27-a2e4-4bfd-a6da-36a2d9025a3d",
   "metadata": {},
   "outputs": [],
   "source": [
    "#hide\n",
    "df2 = df.iloc[df_reviews_top.index]"
   ]
  },
  {
   "cell_type": "code",
   "execution_count": 21,
   "id": "ffe2a041-3272-4eaa-b15d-b21c6d9eabf1",
   "metadata": {},
   "outputs": [
    {
     "data": {
      "text/plain": [
       "<AxesSubplot:xlabel='Metrics.Review Score', ylabel='Metrics.Sales'>"
      ]
     },
     "execution_count": 21,
     "metadata": {},
     "output_type": "execute_result"
    },
    {
     "data": {
      "image/png": "[encoded data removed]",
      "text/plain": [
       "<Figure size 432x288 with 1 Axes>"
      ]
     },
     "metadata": {
      "needs_background": "light"
     },
     "output_type": "display_data"
    }
   ],
   "source": [
    "#hide-input\n",
    "sns.regplot(x = df2['Metrics.Review Score'], y = df2['Metrics.Sales'])"
   ]
  },
  {
   "cell_type": "markdown",
   "id": "baf7f16c-4705-48f6-8312-226b6b652f17",
   "metadata": {},
   "source": [
    "Here, a sucessful game by critic review was defined as having a critic review score of over 90, of which there were 29 games. It does not seem to be the case, however, that a high critic score correlates very strongly to commercial success in sales. In fact, the games that received the highest critic scores were not the ones which had the most number of sales, with a handfull of games receiving more commercial sucess, and the highest seller (in this group) having the lowest critics score... "
   ]
  },
  {
   "cell_type": "code",
   "execution_count": 22,
   "id": "fdae17f6-ae08-4ff3-bd9d-0cfecf7ef9df",
   "metadata": {},
   "outputs": [
    {
     "data": {
      "text/plain": [
       "<AxesSubplot:xlabel='Metrics.Review Score', ylabel='Length.Completionists.Polled'>"
      ]
     },
     "execution_count": 22,
     "metadata": {},
     "output_type": "execute_result"
    },
    {
     "data": {
      "image/png": "[encoded data removed]",
      "text/plain": [
       "<Figure size 432x288 with 1 Axes>"
      ]
     },
     "metadata": {
      "needs_background": "light"
     },
     "output_type": "display_data"
    }
   ],
   "source": [
    "#hide-input\n",
    "sns.regplot(x = df2['Metrics.Review Score'], y = df2['Length.Completionists.Polled'])"
   ]
  },
  {
   "cell_type": "markdown",
   "id": "2841cb23-d4b8-4f4e-81a9-ee35e1b5392e",
   "metadata": {},
   "source": [
    "I observed an even weaker relationship between critic review scores and number of completionists in for the games. \n",
    " \n",
    "This could however be because the games which received the highest critic review scores, such as Grand Theft Auto IV, are known for being \"open-world\" games in which the player can freely navigate the world without the story being a main part of interacting with the game. "
   ]
  },
  {
   "cell_type": "code",
   "execution_count": 23,
   "id": "f73f39a9-cb45-4f7a-991e-2255f4c8fbfc",
   "metadata": {},
   "outputs": [
    {
     "data": {
      "text/html": [
       "<div>\n",
       "<style scoped>\n",
       "    .dataframe tbody tr th:only-of-type {\n",
       "        vertical-align: middle;\n",
       "    }\n",
       "\n",
       "    .dataframe tbody tr th {\n",
       "        vertical-align: top;\n",
       "    }\n",
       "\n",
       "    .dataframe thead th {\n",
       "        text-align: right;\n",
       "    }\n",
       "</style>\n",
       "<table border=\"1\" class=\"dataframe\">\n",
       "  <thead>\n",
       "    <tr style=\"text-align: right;\">\n",
       "      <th></th>\n",
       "      <th>Title</th>\n",
       "      <th>Metrics.Review Score</th>\n",
       "      <th>Metrics.Sales</th>\n",
       "      <th>Length.Completionists.Polled</th>\n",
       "      <th>Metadata.Genres</th>\n",
       "    </tr>\n",
       "  </thead>\n",
       "  <tbody>\n",
       "    <tr>\n",
       "      <th>22</th>\n",
       "      <td>Mario Kart DS</td>\n",
       "      <td>91</td>\n",
       "      <td>9.99</td>\n",
       "      <td>32</td>\n",
       "      <td>Racing / Driving</td>\n",
       "    </tr>\n",
       "    <tr>\n",
       "      <th>420</th>\n",
       "      <td>Halo 3</td>\n",
       "      <td>94</td>\n",
       "      <td>8.03</td>\n",
       "      <td>27</td>\n",
       "      <td>Action</td>\n",
       "    </tr>\n",
       "    <tr>\n",
       "      <th>421</th>\n",
       "      <td>Call of Duty 4: Modern Warfare</td>\n",
       "      <td>94</td>\n",
       "      <td>5.77</td>\n",
       "      <td>50</td>\n",
       "      <td>Action</td>\n",
       "    </tr>\n",
       "    <tr>\n",
       "      <th>834</th>\n",
       "      <td>Grand Theft Auto IV</td>\n",
       "      <td>98</td>\n",
       "      <td>5.76</td>\n",
       "      <td>73</td>\n",
       "      <td>Action,Racing / Driving</td>\n",
       "    </tr>\n",
       "    <tr>\n",
       "      <th>835</th>\n",
       "      <td>Super Smash Bros.: Brawl</td>\n",
       "      <td>93</td>\n",
       "      <td>5.71</td>\n",
       "      <td>15</td>\n",
       "      <td>Action</td>\n",
       "    </tr>\n",
       "    <tr>\n",
       "      <th>422</th>\n",
       "      <td>Super Mario Galaxy</td>\n",
       "      <td>97</td>\n",
       "      <td>4.94</td>\n",
       "      <td>61</td>\n",
       "      <td>Action</td>\n",
       "    </tr>\n",
       "    <tr>\n",
       "      <th>837</th>\n",
       "      <td>Grand Theft Auto IV</td>\n",
       "      <td>98</td>\n",
       "      <td>3.91</td>\n",
       "      <td>73</td>\n",
       "      <td>Action,Racing / Driving</td>\n",
       "    </tr>\n",
       "    <tr>\n",
       "      <th>838</th>\n",
       "      <td>Gears of War 2</td>\n",
       "      <td>93</td>\n",
       "      <td>3.90</td>\n",
       "      <td>5</td>\n",
       "      <td>Action</td>\n",
       "    </tr>\n",
       "    <tr>\n",
       "      <th>160</th>\n",
       "      <td>Gears of War</td>\n",
       "      <td>94</td>\n",
       "      <td>3.70</td>\n",
       "      <td>15</td>\n",
       "      <td>Action</td>\n",
       "    </tr>\n",
       "    <tr>\n",
       "      <th>161</th>\n",
       "      <td>The Legend of Zelda: Twilight Princess</td>\n",
       "      <td>95</td>\n",
       "      <td>3.33</td>\n",
       "      <td>106</td>\n",
       "      <td>Action,Role-Playing (RPG)</td>\n",
       "    </tr>\n",
       "    <tr>\n",
       "      <th>430</th>\n",
       "      <td>Call of Duty 4: Modern Warfare</td>\n",
       "      <td>94</td>\n",
       "      <td>2.91</td>\n",
       "      <td>50</td>\n",
       "      <td>Action</td>\n",
       "    </tr>\n",
       "    <tr>\n",
       "      <th>840</th>\n",
       "      <td>Metal Gear Solid 4: Guns of the Patriots</td>\n",
       "      <td>94</td>\n",
       "      <td>2.58</td>\n",
       "      <td>25</td>\n",
       "      <td>Action</td>\n",
       "    </tr>\n",
       "    <tr>\n",
       "      <th>844</th>\n",
       "      <td>LittleBigPlanet</td>\n",
       "      <td>95</td>\n",
       "      <td>2.46</td>\n",
       "      <td>7</td>\n",
       "      <td>Action</td>\n",
       "    </tr>\n",
       "    <tr>\n",
       "      <th>845</th>\n",
       "      <td>Fallout 3</td>\n",
       "      <td>93</td>\n",
       "      <td>2.44</td>\n",
       "      <td>146</td>\n",
       "      <td>Action,Role-Playing (RPG)</td>\n",
       "    </tr>\n",
       "    <tr>\n",
       "      <th>165</th>\n",
       "      <td>The Elder Scrolls IV: Oblivion</td>\n",
       "      <td>94</td>\n",
       "      <td>2.12</td>\n",
       "      <td>117</td>\n",
       "      <td>Action,Role-Playing (RPG)</td>\n",
       "    </tr>\n",
       "    <tr>\n",
       "      <th>435</th>\n",
       "      <td>Guitar Hero II</td>\n",
       "      <td>92</td>\n",
       "      <td>2.04</td>\n",
       "      <td>2</td>\n",
       "      <td>Action,Simulation</td>\n",
       "    </tr>\n",
       "    <tr>\n",
       "      <th>436</th>\n",
       "      <td>Rock Band</td>\n",
       "      <td>92</td>\n",
       "      <td>2.02</td>\n",
       "      <td>1</td>\n",
       "      <td>Action,Simulation</td>\n",
       "    </tr>\n",
       "    <tr>\n",
       "      <th>851</th>\n",
       "      <td>Rock Band 2</td>\n",
       "      <td>92</td>\n",
       "      <td>1.85</td>\n",
       "      <td>1</td>\n",
       "      <td>Action,Simulation</td>\n",
       "    </tr>\n",
       "    <tr>\n",
       "      <th>442</th>\n",
       "      <td>Mass Effect</td>\n",
       "      <td>91</td>\n",
       "      <td>1.57</td>\n",
       "      <td>379</td>\n",
       "      <td>Action,Role-Playing (RPG)</td>\n",
       "    </tr>\n",
       "    <tr>\n",
       "      <th>861</th>\n",
       "      <td>God of War: Chains of Olympus</td>\n",
       "      <td>91</td>\n",
       "      <td>1.54</td>\n",
       "      <td>39</td>\n",
       "      <td>Action</td>\n",
       "    </tr>\n",
       "    <tr>\n",
       "      <th>444</th>\n",
       "      <td>BioShock</td>\n",
       "      <td>96</td>\n",
       "      <td>1.52</td>\n",
       "      <td>214</td>\n",
       "      <td>Action</td>\n",
       "    </tr>\n",
       "    <tr>\n",
       "      <th>865</th>\n",
       "      <td>Rock Band</td>\n",
       "      <td>92</td>\n",
       "      <td>1.40</td>\n",
       "      <td>1</td>\n",
       "      <td>Action,Simulation</td>\n",
       "    </tr>\n",
       "    <tr>\n",
       "      <th>452</th>\n",
       "      <td>Resident Evil 4</td>\n",
       "      <td>91</td>\n",
       "      <td>1.24</td>\n",
       "      <td>81</td>\n",
       "      <td>Action</td>\n",
       "    </tr>\n",
       "    <tr>\n",
       "      <th>453</th>\n",
       "      <td>The Elder Scrolls IV: Oblivion</td>\n",
       "      <td>93</td>\n",
       "      <td>1.20</td>\n",
       "      <td>117</td>\n",
       "      <td>Action,Role-Playing (RPG)</td>\n",
       "    </tr>\n",
       "    <tr>\n",
       "      <th>874</th>\n",
       "      <td>Rock Band 2</td>\n",
       "      <td>91</td>\n",
       "      <td>1.11</td>\n",
       "      <td>1</td>\n",
       "      <td>Action,Simulation</td>\n",
       "    </tr>\n",
       "    <tr>\n",
       "      <th>462</th>\n",
       "      <td>The Orange Box</td>\n",
       "      <td>96</td>\n",
       "      <td>1.06</td>\n",
       "      <td>4</td>\n",
       "      <td>Action</td>\n",
       "    </tr>\n",
       "    <tr>\n",
       "      <th>464</th>\n",
       "      <td>Rock Band</td>\n",
       "      <td>92</td>\n",
       "      <td>1.01</td>\n",
       "      <td>1</td>\n",
       "      <td>Action,Simulation</td>\n",
       "    </tr>\n",
       "    <tr>\n",
       "      <th>922</th>\n",
       "      <td>BioShock</td>\n",
       "      <td>94</td>\n",
       "      <td>0.53</td>\n",
       "      <td>214</td>\n",
       "      <td>Action</td>\n",
       "    </tr>\n",
       "    <tr>\n",
       "      <th>927</th>\n",
       "      <td>Chrono Trigger</td>\n",
       "      <td>92</td>\n",
       "      <td>0.51</td>\n",
       "      <td>63</td>\n",
       "      <td>Role-Playing (RPG)</td>\n",
       "    </tr>\n",
       "  </tbody>\n",
       "</table>\n",
       "</div>"
      ],
      "text/plain": [
       "                                        Title  Metrics.Review Score  \\\n",
       "22                              Mario Kart DS                    91   \n",
       "420                                    Halo 3                    94   \n",
       "421            Call of Duty 4: Modern Warfare                    94   \n",
       "834                       Grand Theft Auto IV                    98   \n",
       "835                  Super Smash Bros.: Brawl                    93   \n",
       "422                        Super Mario Galaxy                    97   \n",
       "837                       Grand Theft Auto IV                    98   \n",
       "838                            Gears of War 2                    93   \n",
       "160                              Gears of War                    94   \n",
       "161    The Legend of Zelda: Twilight Princess                    95   \n",
       "430            Call of Duty 4: Modern Warfare                    94   \n",
       "840  Metal Gear Solid 4: Guns of the Patriots                    94   \n",
       "844                           LittleBigPlanet                    95   \n",
       "845                                 Fallout 3                    93   \n",
       "165            The Elder Scrolls IV: Oblivion                    94   \n",
       "435                            Guitar Hero II                    92   \n",
       "436                                 Rock Band                    92   \n",
       "851                               Rock Band 2                    92   \n",
       "442                               Mass Effect                    91   \n",
       "861             God of War: Chains of Olympus                    91   \n",
       "444                                  BioShock                    96   \n",
       "865                                 Rock Band                    92   \n",
       "452                           Resident Evil 4                    91   \n",
       "453            The Elder Scrolls IV: Oblivion                    93   \n",
       "874                               Rock Band 2                    91   \n",
       "462                            The Orange Box                    96   \n",
       "464                                 Rock Band                    92   \n",
       "922                                  BioShock                    94   \n",
       "927                            Chrono Trigger                    92   \n",
       "\n",
       "     Metrics.Sales  Length.Completionists.Polled            Metadata.Genres  \n",
       "22            9.99                            32           Racing / Driving  \n",
       "420           8.03                            27                     Action  \n",
       "421           5.77                            50                     Action  \n",
       "834           5.76                            73    Action,Racing / Driving  \n",
       "835           5.71                            15                     Action  \n",
       "422           4.94                            61                     Action  \n",
       "837           3.91                            73    Action,Racing / Driving  \n",
       "838           3.90                             5                     Action  \n",
       "160           3.70                            15                     Action  \n",
       "161           3.33                           106  Action,Role-Playing (RPG)  \n",
       "430           2.91                            50                     Action  \n",
       "840           2.58                            25                     Action  \n",
       "844           2.46                             7                     Action  \n",
       "845           2.44                           146  Action,Role-Playing (RPG)  \n",
       "165           2.12                           117  Action,Role-Playing (RPG)  \n",
       "435           2.04                             2          Action,Simulation  \n",
       "436           2.02                             1          Action,Simulation  \n",
       "851           1.85                             1          Action,Simulation  \n",
       "442           1.57                           379  Action,Role-Playing (RPG)  \n",
       "861           1.54                            39                     Action  \n",
       "444           1.52                           214                     Action  \n",
       "865           1.40                             1          Action,Simulation  \n",
       "452           1.24                            81                     Action  \n",
       "453           1.20                           117  Action,Role-Playing (RPG)  \n",
       "874           1.11                             1          Action,Simulation  \n",
       "462           1.06                             4                     Action  \n",
       "464           1.01                             1          Action,Simulation  \n",
       "922           0.53                           214                     Action  \n",
       "927           0.51                            63         Role-Playing (RPG)  "
      ]
     },
     "execution_count": 23,
     "metadata": {},
     "output_type": "execute_result"
    }
   ],
   "source": [
    "#collapse-output\n",
    "df2[['Title', 'Metrics.Review Score', 'Metrics.Sales', 'Length.Completionists.Polled', 'Metadata.Genres']].sort_values('Metrics.Sales', ascending = False)"
   ]
  },
  {
   "cell_type": "markdown",
   "id": "c08a7b11-cae5-416b-8d6a-179b934ec2b9",
   "metadata": {},
   "source": [
    "Notably, 27 out of the 29 titles that were considered top-performers as described by their critic review scores had Action as one of their genre descriptors. The two games that did not belong to this genre were considered as Role-Playing and Racing/ Driving games. "
   ]
  },
  {
   "cell_type": "markdown",
   "id": "c9b41bc2-2afc-40f4-aa8e-ae16d8261f3a",
   "metadata": {},
   "source": [
    "### 2. Commercial Sales "
   ]
  },
  {
   "cell_type": "code",
   "execution_count": 24,
   "id": "95441245-079e-475f-87ca-1b8b553f9276",
   "metadata": {},
   "outputs": [],
   "source": [
    "#hide\n",
    "df_sales = df[['Title', 'Metrics.Sales']]"
   ]
  },
  {
   "cell_type": "code",
   "execution_count": 50,
   "id": "2d08cc25-7ad1-45a8-8e2f-6ec24f35a28e",
   "metadata": {},
   "outputs": [
    {
     "data": {
      "text/plain": [
       "<bound method NDFrame._add_numeric_operations.<locals>.mean of 0       4.69\n",
       "1       0.56\n",
       "2       0.54\n",
       "3       0.49\n",
       "4       0.45\n",
       "        ... \n",
       "1207    0.03\n",
       "1208    0.03\n",
       "1209    0.03\n",
       "1210    0.02\n",
       "1211    0.02\n",
       "Name: Metrics.Sales, Length: 1212, dtype: float64>"
      ]
     },
     "execution_count": 50,
     "metadata": {},
     "output_type": "execute_result"
    }
   ],
   "source": [
    "#hide\n",
    "df['Metrics.Sales'].mean"
   ]
  },
  {
   "cell_type": "code",
   "execution_count": 26,
   "id": "3310f57e-814d-431c-85e8-7deeb6a39264",
   "metadata": {},
   "outputs": [],
   "source": [
    "#hide\n",
    "df_sales_top = df_sales[df_sales['Metrics.Sales'] > 4.69]"
   ]
  },
  {
   "cell_type": "code",
   "execution_count": 27,
   "id": "d675718b-6b05-4847-81bf-ce684383ab66",
   "metadata": {},
   "outputs": [
    {
     "data": {
      "text/plain": [
       "14"
      ]
     },
     "execution_count": 27,
     "metadata": {},
     "output_type": "execute_result"
    }
   ],
   "source": [
    "#hide\n",
    "len(df_sales_top.index)"
   ]
  },
  {
   "cell_type": "code",
   "execution_count": 28,
   "id": "cf3459f3-6db8-4f46-90c0-615cf7958fa7",
   "metadata": {},
   "outputs": [],
   "source": [
    "#hide\n",
    "df3 = df.iloc[df_sales_top.index]"
   ]
  },
  {
   "cell_type": "code",
   "execution_count": 29,
   "id": "45e2027b-c3dd-4e02-939c-a80a74b7c49e",
   "metadata": {},
   "outputs": [
    {
     "data": {
      "text/plain": [
       "<AxesSubplot:xlabel='Metrics.Sales', ylabel='Metrics.Review Score'>"
      ]
     },
     "execution_count": 29,
     "metadata": {},
     "output_type": "execute_result"
    },
    {
     "data": {
      "image/png": "[encoded data removed]",
      "text/plain": [
       "<Figure size 432x288 with 1 Axes>"
      ]
     },
     "metadata": {
      "needs_background": "light"
     },
     "output_type": "display_data"
    }
   ],
   "source": [
    "#hide-input\n",
    "sns.regplot(x = df3['Metrics.Sales'], y =df3['Metrics.Review Score'] )"
   ]
  },
  {
   "cell_type": "markdown",
   "id": "d1be279d-c08a-4d31-96eb-59c079be0d68",
   "metadata": {},
   "source": [
    "Very interestingly, for the top-performing games in terms if sales, being 14 games, there was actually a negative correlation between sales and critic scores. Shockingly, the game with the most sales had the lowest (sub-60) score of the group of games! However, the games with the highest critic scores in this set still had sales that were above the mean of the entire set, so these games were by no means unsuccessful. "
   ]
  },
  {
   "cell_type": "code",
   "execution_count": 65,
   "id": "8a4afac2-ab0d-4f45-a278-a69ebdf94f7e",
   "metadata": {},
   "outputs": [
    {
     "data": {
      "text/plain": [
       "<AxesSubplot:xlabel='Metrics.Sales', ylabel='Length.Completionists.Polled'>"
      ]
     },
     "execution_count": 65,
     "metadata": {},
     "output_type": "execute_result"
    },
    {
     "data": {
      "image/png": "[encoded data removed]",
      "text/plain": [
       "<Figure size 432x288 with 1 Axes>"
      ]
     },
     "metadata": {
      "needs_background": "light"
     },
     "output_type": "display_data"
    }
   ],
   "source": [
    "#hide-input\n",
    "sns.regplot(x = df3['Metrics.Sales'], y =df3['Length.Completionists.Polled'])"
   ]
  },
  {
   "cell_type": "markdown",
   "id": "83de0ae4-52a3-44bb-8781-e82228777031",
   "metadata": {},
   "source": [
    "A similar negative relationship was observed between sales and number of completionist players. For similar reasons as the to critic scores grouping, the top game, Wii Play, is not a game that is well-known for having a definitive plot that players follow, but rather is a game that is often played socially with family and friends.  "
   ]
  },
  {
   "cell_type": "code",
   "execution_count": 31,
   "id": "23644d72-601c-42e8-b277-3a0f2889cfc8",
   "metadata": {},
   "outputs": [
    {
     "data": {
      "text/html": [
       "<div>\n",
       "<style scoped>\n",
       "    .dataframe tbody tr th:only-of-type {\n",
       "        vertical-align: middle;\n",
       "    }\n",
       "\n",
       "    .dataframe tbody tr th {\n",
       "        vertical-align: top;\n",
       "    }\n",
       "\n",
       "    .dataframe thead th {\n",
       "        text-align: right;\n",
       "    }\n",
       "</style>\n",
       "<table border=\"1\" class=\"dataframe\">\n",
       "  <thead>\n",
       "    <tr style=\"text-align: right;\">\n",
       "      <th></th>\n",
       "      <th>Title</th>\n",
       "      <th>Metrics.Review Score</th>\n",
       "      <th>Metrics.Sales</th>\n",
       "      <th>Length.Completionists.Polled</th>\n",
       "      <th>Metadata.Genres</th>\n",
       "    </tr>\n",
       "  </thead>\n",
       "  <tbody>\n",
       "    <tr>\n",
       "      <th>156</th>\n",
       "      <td>Wii Play</td>\n",
       "      <td>58</td>\n",
       "      <td>14.66</td>\n",
       "      <td>0</td>\n",
       "      <td>Action,Sports</td>\n",
       "    </tr>\n",
       "    <tr>\n",
       "      <th>833</th>\n",
       "      <td>Mario Kart Wii</td>\n",
       "      <td>82</td>\n",
       "      <td>12.39</td>\n",
       "      <td>29</td>\n",
       "      <td>Racing / Driving</td>\n",
       "    </tr>\n",
       "    <tr>\n",
       "      <th>157</th>\n",
       "      <td>New Super Mario Bros.</td>\n",
       "      <td>89</td>\n",
       "      <td>10.03</td>\n",
       "      <td>33</td>\n",
       "      <td>Action</td>\n",
       "    </tr>\n",
       "    <tr>\n",
       "      <th>22</th>\n",
       "      <td>Mario Kart DS</td>\n",
       "      <td>91</td>\n",
       "      <td>9.99</td>\n",
       "      <td>32</td>\n",
       "      <td>Racing / Driving</td>\n",
       "    </tr>\n",
       "    <tr>\n",
       "      <th>23</th>\n",
       "      <td>Nintendogs</td>\n",
       "      <td>83</td>\n",
       "      <td>9.72</td>\n",
       "      <td>1</td>\n",
       "      <td>Simulation</td>\n",
       "    </tr>\n",
       "    <tr>\n",
       "      <th>419</th>\n",
       "      <td>Wii Fit</td>\n",
       "      <td>80</td>\n",
       "      <td>9.60</td>\n",
       "      <td>0</td>\n",
       "      <td>Educational,Sports</td>\n",
       "    </tr>\n",
       "    <tr>\n",
       "      <th>420</th>\n",
       "      <td>Halo 3</td>\n",
       "      <td>94</td>\n",
       "      <td>8.03</td>\n",
       "      <td>27</td>\n",
       "      <td>Action</td>\n",
       "    </tr>\n",
       "    <tr>\n",
       "      <th>158</th>\n",
       "      <td>Pokmon Diamond</td>\n",
       "      <td>85</td>\n",
       "      <td>6.77</td>\n",
       "      <td>39</td>\n",
       "      <td>Role-Playing (RPG)</td>\n",
       "    </tr>\n",
       "    <tr>\n",
       "      <th>159</th>\n",
       "      <td>Pokmon Pearl</td>\n",
       "      <td>85</td>\n",
       "      <td>6.77</td>\n",
       "      <td>39</td>\n",
       "      <td>Role-Playing (RPG)</td>\n",
       "    </tr>\n",
       "    <tr>\n",
       "      <th>421</th>\n",
       "      <td>Call of Duty 4: Modern Warfare</td>\n",
       "      <td>94</td>\n",
       "      <td>5.77</td>\n",
       "      <td>50</td>\n",
       "      <td>Action</td>\n",
       "    </tr>\n",
       "    <tr>\n",
       "      <th>834</th>\n",
       "      <td>Grand Theft Auto IV</td>\n",
       "      <td>98</td>\n",
       "      <td>5.76</td>\n",
       "      <td>73</td>\n",
       "      <td>Action,Racing / Driving</td>\n",
       "    </tr>\n",
       "    <tr>\n",
       "      <th>835</th>\n",
       "      <td>Super Smash Bros.: Brawl</td>\n",
       "      <td>93</td>\n",
       "      <td>5.71</td>\n",
       "      <td>15</td>\n",
       "      <td>Action</td>\n",
       "    </tr>\n",
       "    <tr>\n",
       "      <th>24</th>\n",
       "      <td>Brain Age: Train Your Brain in Minutes a Day!</td>\n",
       "      <td>77</td>\n",
       "      <td>5.07</td>\n",
       "      <td>2</td>\n",
       "      <td>Action</td>\n",
       "    </tr>\n",
       "    <tr>\n",
       "      <th>422</th>\n",
       "      <td>Super Mario Galaxy</td>\n",
       "      <td>97</td>\n",
       "      <td>4.94</td>\n",
       "      <td>61</td>\n",
       "      <td>Action</td>\n",
       "    </tr>\n",
       "  </tbody>\n",
       "</table>\n",
       "</div>"
      ],
      "text/plain": [
       "                                             Title  Metrics.Review Score  \\\n",
       "156                                       Wii Play                    58   \n",
       "833                                 Mario Kart Wii                    82   \n",
       "157                          New Super Mario Bros.                    89   \n",
       "22                                   Mario Kart DS                    91   \n",
       "23                                      Nintendogs                    83   \n",
       "419                                        Wii Fit                    80   \n",
       "420                                         Halo 3                    94   \n",
       "158                                 Pokmon Diamond                    85   \n",
       "159                                   Pokmon Pearl                    85   \n",
       "421                 Call of Duty 4: Modern Warfare                    94   \n",
       "834                            Grand Theft Auto IV                    98   \n",
       "835                       Super Smash Bros.: Brawl                    93   \n",
       "24   Brain Age: Train Your Brain in Minutes a Day!                    77   \n",
       "422                             Super Mario Galaxy                    97   \n",
       "\n",
       "     Metrics.Sales  Length.Completionists.Polled          Metadata.Genres  \n",
       "156          14.66                             0            Action,Sports  \n",
       "833          12.39                            29         Racing / Driving  \n",
       "157          10.03                            33                   Action  \n",
       "22            9.99                            32         Racing / Driving  \n",
       "23            9.72                             1               Simulation  \n",
       "419           9.60                             0       Educational,Sports  \n",
       "420           8.03                            27                   Action  \n",
       "158           6.77                            39       Role-Playing (RPG)  \n",
       "159           6.77                            39       Role-Playing (RPG)  \n",
       "421           5.77                            50                   Action  \n",
       "834           5.76                            73  Action,Racing / Driving  \n",
       "835           5.71                            15                   Action  \n",
       "24            5.07                             2                   Action  \n",
       "422           4.94                            61                   Action  "
      ]
     },
     "execution_count": 31,
     "metadata": {},
     "output_type": "execute_result"
    }
   ],
   "source": [
    "#hide-input\n",
    "df3[['Title', 'Metrics.Review Score', 'Metrics.Sales', 'Length.Completionists.Polled', 'Metadata.Genres']].sort_values('Metrics.Sales', ascending = False)"
   ]
  },
  {
   "cell_type": "markdown",
   "id": "83ab604b-4b2c-424b-bcff-94e04c43cf1d",
   "metadata": {},
   "source": [
    "The distribution of genres in this group were slightly more diverse than that of the critic scores group. While Action games still held a slight majority at 8 out 14 games being part of the Action genre, Role-Playing, sports, and Driving games made up the remainder of this group. "
   ]
  },
  {
   "cell_type": "markdown",
   "id": "2edc65a2-5de6-4b9f-8fea-946bef538787",
   "metadata": {},
   "source": [
    "### 3. Completionists (or not?) "
   ]
  },
  {
   "cell_type": "markdown",
   "id": "6048615b-54cc-4471-bf10-cc3a98e305ad",
   "metadata": {},
   "source": [
    "Following my analysis of the top-performing games under critic scores and commercial sales, I have decided not to continue with using number of completionists as a measure of success for a variety of reasons. Firstly, this number would already be skewed because of how the number of players would affect this figure, and completionist data as such would require standardization. While the additional work of standardizing this data is not very much work, I also chose not to use number of completionists in the remainder of my analysis because of how easily this number could be affected by the type of game. There are many games that are made simply to be enjoyed, and do not have the aspect of following a story or plot that other games have. In the former case, players would not be as motivated to \"complete\" the game, which would skew how the number of com"
   ]
  },
  {
   "cell_type": "markdown",
   "id": "c86ce8b3-0933-45af-b443-b85469279f9b",
   "metadata": {},
   "source": [
    "### Action Games and Reviews? "
   ]
  },
  {
   "cell_type": "markdown",
   "id": "e9cae61a-6f59-4793-b77e-0ac5c68e4077",
   "metadata": {},
   "source": [
    "Because of the overrepresentation of Action games in the games with high critic reviews, I wanted to explore the idea that critics tend to favor games that are of the Action genre. "
   ]
  },
  {
   "cell_type": "code",
   "execution_count": 32,
   "id": "fd5cd0da-16aa-4529-9923-28dffc651376",
   "metadata": {},
   "outputs": [],
   "source": [
    "#hide\n",
    "df_action = df[df['Metadata.Genres'] == 'Action'] "
   ]
  },
  {
   "cell_type": "code",
   "execution_count": 56,
   "id": "86107f96-22c6-429c-a2db-70e3fda0be3b",
   "metadata": {},
   "outputs": [
    {
     "data": {
      "text/plain": [
       "<bound method NDFrame._add_numeric_operations.<locals>.mean of 0       85\n",
       "4       61\n",
       "13      74\n",
       "17      74\n",
       "18      72\n",
       "        ..\n",
       "1197    42\n",
       "1200    30\n",
       "1204    58\n",
       "1205    70\n",
       "1211    39\n",
       "Name: Metrics.Review Score, Length: 476, dtype: int64>"
      ]
     },
     "execution_count": 56,
     "metadata": {},
     "output_type": "execute_result"
    }
   ],
   "source": [
    "#collapse-output\n",
    "df_action['Metrics.Review Score'].mean"
   ]
  },
  {
   "cell_type": "code",
   "execution_count": 34,
   "id": "cc80b64e-5dfb-42c2-ad04-858673fcc664",
   "metadata": {},
   "outputs": [],
   "source": [
    "#hide\n",
    "df_sports =  df[df['Metadata.Genres'] == 'Sports'] "
   ]
  },
  {
   "cell_type": "code",
   "execution_count": 55,
   "id": "33a2b841-4db4-4af2-8e61-8f4033eef9b7",
   "metadata": {},
   "outputs": [
    {
     "data": {
      "text/plain": [
       "<bound method NDFrame._add_numeric_operations.<locals>.mean of 3       81\n",
       "8       68\n",
       "40      75\n",
       "47      74\n",
       "51      83\n",
       "        ..\n",
       "1143    63\n",
       "1163    63\n",
       "1167    65\n",
       "1170    80\n",
       "1199    68\n",
       "Name: Metrics.Review Score, Length: 166, dtype: int64>"
      ]
     },
     "execution_count": 55,
     "metadata": {},
     "output_type": "execute_result"
    }
   ],
   "source": [
    "#collapse-output\n",
    "df_sports['Metrics.Review Score'].mean"
   ]
  },
  {
   "cell_type": "code",
   "execution_count": 36,
   "id": "cc922c05-dad6-479c-9352-923c84366f2a",
   "metadata": {},
   "outputs": [],
   "source": [
    "#hide\n",
    "df_strategy =  df[df['Metadata.Genres'] == 'Strategy'] "
   ]
  },
  {
   "cell_type": "code",
   "execution_count": 54,
   "id": "fbcd4c74-3ea0-4e19-ba05-57f50a3aa383",
   "metadata": {},
   "outputs": [
    {
     "data": {
      "text/plain": [
       "<bound method NDFrame._add_numeric_operations.<locals>.mean of 1       89\n",
       "7       75\n",
       "15      73\n",
       "48      83\n",
       "70      90\n",
       "        ..\n",
       "1159    71\n",
       "1177    78\n",
       "1190    63\n",
       "1198    74\n",
       "1202    56\n",
       "Name: Metrics.Review Score, Length: 62, dtype: int64>"
      ]
     },
     "execution_count": 54,
     "metadata": {},
     "output_type": "execute_result"
    }
   ],
   "source": [
    "#collapse-output\n",
    "df_strategy['Metrics.Review Score'].mean"
   ]
  },
  {
   "cell_type": "markdown",
   "id": "4f9b8bed-f997-4b81-a629-a2b8af077178",
   "metadata": {},
   "source": [
    "Looking at the 3 most common genres and examining the mean critic review scores, it seems that there does not seem to be an inherent bias for Action games amonst critics, since strategy games had a higher mean score, though I think this is one area of analysis that could benefit from more investigation. "
   ]
  },
  {
   "cell_type": "markdown",
   "id": "5f8ccce0-71a9-4afd-8d63-1bc9af673e0d",
   "metadata": {},
   "source": [
    "## **Who's at the Top?**"
   ]
  },
  {
   "cell_type": "markdown",
   "id": "332589db-5f2a-4bbf-bfa4-b29d59ef39d9",
   "metadata": {},
   "source": [
    "From both my own personal perspective, as well as how I assume businesses and consumers would define success, I think commerical sales is the best way to mesure the success of a game. However, because I think critic reviews may encapsulate some measure of the quality of a game, I think it would be beneficial to include critics reviews as a measure of success in some way. Therefore, I decided that when choosing the \"top games,\" I would choose those games that were present in both categories or top-performers in critic scores and sales. That is, games that received both above a 90 on critic scores and had sales above 4.69. \n",
    "\n",
    "To account for any phenomenon that goes beyond any conventional measure of success I would like to include those titles that had extremely high sales, but perhaps were not deemed a \"good game\" by critics. These three games would be: Wii Play, Mario Kart Wii, and New Super Mario Bros, all titles that had commericial sales greater that 10 million dollars. "
   ]
  },
  {
   "cell_type": "code",
   "execution_count": 38,
   "id": "12ce09b9-6e3c-46fe-b0e9-37656c15151e",
   "metadata": {},
   "outputs": [],
   "source": [
    "#hide\n",
    "top_reviews = df2['Title'].tolist()\n",
    "top_sales = df3['Title'].tolist()"
   ]
  },
  {
   "cell_type": "code",
   "execution_count": 39,
   "id": "366195bd-8d69-44f1-99cb-ed7e755924a3",
   "metadata": {
    "tags": []
   },
   "outputs": [
    {
     "data": {
      "text/plain": [
       "['Mario Kart DS',\n",
       " 'Nintendogs',\n",
       " 'Brain Age: Train Your Brain in Minutes a Day!',\n",
       " 'Wii Play',\n",
       " 'New Super Mario Bros.',\n",
       " 'Pokmon Diamond',\n",
       " 'Pokmon Pearl',\n",
       " 'Wii Fit',\n",
       " 'Halo 3',\n",
       " 'Call of Duty 4: Modern Warfare',\n",
       " 'Super Mario Galaxy',\n",
       " 'Mario Kart Wii',\n",
       " 'Grand Theft Auto IV',\n",
       " 'Super Smash Bros.: Brawl']"
      ]
     },
     "execution_count": 39,
     "metadata": {},
     "output_type": "execute_result"
    }
   ],
   "source": [
    "#collapse-output\n",
    "top_sales"
   ]
  },
  {
   "cell_type": "code",
   "execution_count": 40,
   "id": "67bc86a0-6b5f-44b4-8a39-c6f6c0edef9e",
   "metadata": {
    "tags": []
   },
   "outputs": [
    {
     "data": {
      "text/plain": [
       "['Grand Theft Auto IV',\n",
       " 'Grand Theft Auto IV',\n",
       " 'Super Mario Galaxy',\n",
       " 'The Orange Box',\n",
       " 'BioShock',\n",
       " 'LittleBigPlanet',\n",
       " 'The Legend of Zelda: Twilight Princess',\n",
       " 'The Elder Scrolls IV: Oblivion',\n",
       " 'Halo 3',\n",
       " 'Call of Duty 4: Modern Warfare',\n",
       " 'Call of Duty 4: Modern Warfare',\n",
       " 'BioShock',\n",
       " 'Metal Gear Solid 4: Guns of the Patriots',\n",
       " 'Gears of War',\n",
       " 'Super Smash Bros.: Brawl',\n",
       " 'Gears of War 2',\n",
       " 'The Elder Scrolls IV: Oblivion',\n",
       " 'Fallout 3',\n",
       " 'Rock Band',\n",
       " 'Rock Band 2',\n",
       " 'Chrono Trigger',\n",
       " 'Rock Band',\n",
       " 'Rock Band',\n",
       " 'Guitar Hero II',\n",
       " 'Resident Evil 4',\n",
       " 'Mass Effect',\n",
       " 'God of War: Chains of Olympus',\n",
       " 'Rock Band 2',\n",
       " 'Mario Kart DS']"
      ]
     },
     "execution_count": 40,
     "metadata": {},
     "output_type": "execute_result"
    }
   ],
   "source": [
    "#collapse-output\n",
    "top_reviews"
   ]
  },
  {
   "cell_type": "code",
   "execution_count": 41,
   "id": "afd94527-bdf6-4eaa-b0e4-59189d22b5b3",
   "metadata": {},
   "outputs": [
    {
     "name": "stdout",
     "output_type": "stream",
     "text": [
      "{'Mario Kart DS', 'Call of Duty 4: Modern Warfare', 'Super Mario Galaxy', 'Super Smash Bros.: Brawl', 'Halo 3', 'Grand Theft Auto IV'}\n"
     ]
    }
   ],
   "source": [
    "#collapse-output\n",
    "print(set(top_sales).intersection(set(top_reviews)))"
   ]
  },
  {
   "cell_type": "code",
   "execution_count": 42,
   "id": "17cce50b-72b8-4baf-aa76-672cf1777911",
   "metadata": {},
   "outputs": [],
   "source": [
    "#hide\n",
    "top_games = set(top_sales).intersection(set(top_reviews))"
   ]
  },
  {
   "cell_type": "code",
   "execution_count": 43,
   "id": "f65205e1-0b10-48be-beab-8a45b5a41a97",
   "metadata": {},
   "outputs": [],
   "source": [
    "#hide\n",
    "top_games_dict = {'Grand Theft Auto IV' : 837, \n",
    "             'Mario Kart DS' : 22, \n",
    "             'Halo 3' : 420, \n",
    "             'Call of Duty 4: Modern Warfare' : 421, \n",
    "             'Super Mario Galaxy' : 422, \n",
    "             'Super Smash Bros.: Brawl' : 835\n",
    "}"
   ]
  },
  {
   "cell_type": "code",
   "execution_count": 44,
   "id": "36e3d499-942a-4bfb-94c1-92e75cd20ad7",
   "metadata": {},
   "outputs": [],
   "source": [
    "#hide\n",
    "target_indices = [837, 22, 420, 421, 422, 835, 156, 833, 157]\n",
    "top_games = df.iloc[target_indices]"
   ]
  },
  {
   "cell_type": "code",
   "execution_count": 45,
   "id": "d8cd29fa-3b22-44fb-98e8-f59e8f041dec",
   "metadata": {
    "tags": []
   },
   "outputs": [],
   "source": [
    "#hide\n",
    "top_games = top_games[['Title', 'Metrics.Review Score', 'Metrics.Sales', 'Metadata.Genres', 'Metadata.Sequel?', 'Metadata.Publishers', 'Features.Max Players', 'Release.Console', 'Release.Year']]"
   ]
  },
  {
   "cell_type": "code",
   "execution_count": 46,
   "id": "7ca612d3-f781-4350-93e7-9c7fffa0dac2",
   "metadata": {},
   "outputs": [
    {
     "data": {
      "text/html": [
       "<div>\n",
       "<style scoped>\n",
       "    .dataframe tbody tr th:only-of-type {\n",
       "        vertical-align: middle;\n",
       "    }\n",
       "\n",
       "    .dataframe tbody tr th {\n",
       "        vertical-align: top;\n",
       "    }\n",
       "\n",
       "    .dataframe thead th {\n",
       "        text-align: right;\n",
       "    }\n",
       "</style>\n",
       "<table border=\"1\" class=\"dataframe\">\n",
       "  <thead>\n",
       "    <tr style=\"text-align: right;\">\n",
       "      <th></th>\n",
       "      <th>Title</th>\n",
       "      <th>Metrics.Review Score</th>\n",
       "      <th>Metrics.Sales</th>\n",
       "      <th>Metadata.Genres</th>\n",
       "      <th>Metadata.Sequel?</th>\n",
       "      <th>Metadata.Publishers</th>\n",
       "      <th>Features.Max Players</th>\n",
       "      <th>Release.Console</th>\n",
       "      <th>Release.Year</th>\n",
       "    </tr>\n",
       "  </thead>\n",
       "  <tbody>\n",
       "    <tr>\n",
       "      <th>156</th>\n",
       "      <td>Wii Play</td>\n",
       "      <td>58</td>\n",
       "      <td>14.66</td>\n",
       "      <td>Action,Sports</td>\n",
       "      <td>True</td>\n",
       "      <td>Nintendo</td>\n",
       "      <td>2</td>\n",
       "      <td>Nintendo Wii</td>\n",
       "      <td>2006</td>\n",
       "    </tr>\n",
       "    <tr>\n",
       "      <th>833</th>\n",
       "      <td>Mario Kart Wii</td>\n",
       "      <td>82</td>\n",
       "      <td>12.39</td>\n",
       "      <td>Racing / Driving</td>\n",
       "      <td>True</td>\n",
       "      <td>Nintendo</td>\n",
       "      <td>4</td>\n",
       "      <td>Nintendo Wii</td>\n",
       "      <td>2008</td>\n",
       "    </tr>\n",
       "    <tr>\n",
       "      <th>157</th>\n",
       "      <td>New Super Mario Bros.</td>\n",
       "      <td>89</td>\n",
       "      <td>10.03</td>\n",
       "      <td>Action</td>\n",
       "      <td>True</td>\n",
       "      <td>Nintendo</td>\n",
       "      <td>1</td>\n",
       "      <td>Nintendo DS</td>\n",
       "      <td>2006</td>\n",
       "    </tr>\n",
       "    <tr>\n",
       "      <th>22</th>\n",
       "      <td>Mario Kart DS</td>\n",
       "      <td>91</td>\n",
       "      <td>9.99</td>\n",
       "      <td>Racing / Driving</td>\n",
       "      <td>True</td>\n",
       "      <td>Nintendo</td>\n",
       "      <td>1</td>\n",
       "      <td>Nintendo DS</td>\n",
       "      <td>2005</td>\n",
       "    </tr>\n",
       "    <tr>\n",
       "      <th>420</th>\n",
       "      <td>Halo 3</td>\n",
       "      <td>94</td>\n",
       "      <td>8.03</td>\n",
       "      <td>Action</td>\n",
       "      <td>True</td>\n",
       "      <td>Microsoft</td>\n",
       "      <td>4</td>\n",
       "      <td>X360</td>\n",
       "      <td>2007</td>\n",
       "    </tr>\n",
       "    <tr>\n",
       "      <th>421</th>\n",
       "      <td>Call of Duty 4: Modern Warfare</td>\n",
       "      <td>94</td>\n",
       "      <td>5.77</td>\n",
       "      <td>Action</td>\n",
       "      <td>True</td>\n",
       "      <td>Activision</td>\n",
       "      <td>4</td>\n",
       "      <td>X360</td>\n",
       "      <td>2007</td>\n",
       "    </tr>\n",
       "    <tr>\n",
       "      <th>835</th>\n",
       "      <td>Super Smash Bros.: Brawl</td>\n",
       "      <td>93</td>\n",
       "      <td>5.71</td>\n",
       "      <td>Action</td>\n",
       "      <td>True</td>\n",
       "      <td>Nintendo</td>\n",
       "      <td>6</td>\n",
       "      <td>Nintendo Wii</td>\n",
       "      <td>2008</td>\n",
       "    </tr>\n",
       "    <tr>\n",
       "      <th>422</th>\n",
       "      <td>Super Mario Galaxy</td>\n",
       "      <td>97</td>\n",
       "      <td>4.94</td>\n",
       "      <td>Action</td>\n",
       "      <td>True</td>\n",
       "      <td>Nintendo</td>\n",
       "      <td>2</td>\n",
       "      <td>Nintendo Wii</td>\n",
       "      <td>2007</td>\n",
       "    </tr>\n",
       "    <tr>\n",
       "      <th>837</th>\n",
       "      <td>Grand Theft Auto IV</td>\n",
       "      <td>98</td>\n",
       "      <td>3.91</td>\n",
       "      <td>Action,Racing / Driving</td>\n",
       "      <td>True</td>\n",
       "      <td>Rockstar</td>\n",
       "      <td>1</td>\n",
       "      <td>PlayStation 3</td>\n",
       "      <td>2008</td>\n",
       "    </tr>\n",
       "  </tbody>\n",
       "</table>\n",
       "</div>"
      ],
      "text/plain": [
       "                              Title  Metrics.Review Score  Metrics.Sales  \\\n",
       "156                        Wii Play                    58          14.66   \n",
       "833                  Mario Kart Wii                    82          12.39   \n",
       "157           New Super Mario Bros.                    89          10.03   \n",
       "22                    Mario Kart DS                    91           9.99   \n",
       "420                          Halo 3                    94           8.03   \n",
       "421  Call of Duty 4: Modern Warfare                    94           5.77   \n",
       "835        Super Smash Bros.: Brawl                    93           5.71   \n",
       "422              Super Mario Galaxy                    97           4.94   \n",
       "837             Grand Theft Auto IV                    98           3.91   \n",
       "\n",
       "             Metadata.Genres  Metadata.Sequel? Metadata.Publishers  \\\n",
       "156            Action,Sports              True            Nintendo   \n",
       "833         Racing / Driving              True            Nintendo   \n",
       "157                   Action              True            Nintendo   \n",
       "22          Racing / Driving              True            Nintendo   \n",
       "420                   Action              True           Microsoft   \n",
       "421                   Action              True          Activision   \n",
       "835                   Action              True            Nintendo   \n",
       "422                   Action              True            Nintendo   \n",
       "837  Action,Racing / Driving              True            Rockstar   \n",
       "\n",
       "     Features.Max Players Release.Console  Release.Year  \n",
       "156                     2    Nintendo Wii          2006  \n",
       "833                     4    Nintendo Wii          2008  \n",
       "157                     1     Nintendo DS          2006  \n",
       "22                      1     Nintendo DS          2005  \n",
       "420                     4            X360          2007  \n",
       "421                     4            X360          2007  \n",
       "835                     6    Nintendo Wii          2008  \n",
       "422                     2    Nintendo Wii          2007  \n",
       "837                     1   PlayStation 3          2008  "
      ]
     },
     "execution_count": 46,
     "metadata": {},
     "output_type": "execute_result"
    }
   ],
   "source": [
    "#hide-input\n",
    "top_games.sort_values('Metrics.Sales', ascending = False)"
   ]
  },
  {
   "cell_type": "code",
   "execution_count": 63,
   "id": "1f5c0189-4190-44ff-8d70-895364105239",
   "metadata": {},
   "outputs": [
    {
     "data": {
      "text/plain": [
       "<AxesSubplot:xlabel='Metadata.Genres', ylabel='count'>"
      ]
     },
     "execution_count": 63,
     "metadata": {},
     "output_type": "execute_result"
    },
    {
     "data": {
      "image/png": "[encoded data removed]",
      "text/plain": [
       "<Figure size 432x288 with 1 Axes>"
      ]
     },
     "metadata": {
      "needs_background": "light"
     },
     "output_type": "display_data"
    }
   ],
   "source": [
    "#hide-input\n",
    "sns.countplot(x = top_games['Metadata.Genres'], palette = 'ch:.25')"
   ]
  },
  {
   "cell_type": "code",
   "execution_count": 66,
   "id": "45665193-d6eb-4fbd-ab54-bcc31c4b771f",
   "metadata": {},
   "outputs": [
    {
     "data": {
      "text/plain": [
       "<AxesSubplot:xlabel='Metadata.Publishers', ylabel='count'>"
      ]
     },
     "execution_count": 66,
     "metadata": {},
     "output_type": "execute_result"
    },
    {
     "data": {
      "image/png": "[encoded data removed]",
      "text/plain": [
       "<Figure size 432x288 with 1 Axes>"
      ]
     },
     "metadata": {
      "needs_background": "light"
     },
     "output_type": "display_data"
    }
   ],
   "source": [
    "#hide-input\n",
    "sns.countplot(x = top_games['Metadata.Publishers'], palette = 'ch:.25')"
   ]
  },
  {
   "cell_type": "code",
   "execution_count": 67,
   "id": "f598ad14-1eb3-4798-bee2-3adc8be9a83b",
   "metadata": {},
   "outputs": [
    {
     "data": {
      "text/plain": [
       "<AxesSubplot:xlabel='Features.Max Players', ylabel='count'>"
      ]
     },
     "execution_count": 67,
     "metadata": {},
     "output_type": "execute_result"
    },
    {
     "data": {
      "image/png": "[encoded data removed]",
      "text/plain": [
       "<Figure size 432x288 with 1 Axes>"
      ]
     },
     "metadata": {
      "needs_background": "light"
     },
     "output_type": "display_data"
    }
   ],
   "source": [
    "#hide-input\n",
    "sns.countplot(x = top_games['Features.Max Players'], palette = 'ch:.25')"
   ]
  },
  {
   "cell_type": "code",
   "execution_count": 68,
   "id": "9f1aca43-7c5f-423f-8370-c83edf2a94a5",
   "metadata": {},
   "outputs": [
    {
     "data": {
      "text/plain": [
       "<AxesSubplot:xlabel='Release.Console', ylabel='count'>"
      ]
     },
     "execution_count": 68,
     "metadata": {},
     "output_type": "execute_result"
    },
    {
     "data": {
      "image/png": "[encoded data removed]",
      "text/plain": [
       "<Figure size 432x288 with 1 Axes>"
      ]
     },
     "metadata": {
      "needs_background": "light"
     },
     "output_type": "display_data"
    }
   ],
   "source": [
    "#hide-input\n",
    "sns.countplot(x = top_games['Release.Console'], palette = 'ch:.25')"
   ]
  },
  {
   "cell_type": "markdown",
   "id": "975e442c-b4bc-424c-b409-1c9748d3ef3a",
   "metadata": {
    "tags": []
   },
   "source": [
    "## **Discussion**"
   ]
  },
  {
   "cell_type": "markdown",
   "id": "5d414175-43c7-43d4-8c1c-c2ce3d16086b",
   "metadata": {},
   "source": [
    "Examining the commonalities among the top performing games, it is clear that Nintendo games have the highest sales. They make up 6 of the 9 games that I identified as top-performing games, and represent the 6 highest-earning games in the entire dataset. This seems to operate independently of critic reviews, as the three highest selling games did not receive scores above 90 from critics. \n",
    "\n",
    "I think that there are factors, especially metadata about each game beyond the scope of information that was included in this dataset, that contributes to why games from Nintendo, and especially those that came out at the top of this dataset were considered top-performers by sales. \n",
    "\n",
    "Three of the top four games- Wii Play, Mario Kart Wii, and Mario Kart DS- are titles that do not have a strong storyline for the player to follow. Rather, they are multiplayer games that are centered around gaming as a social aspect. With family or friends, players can compete on teams with or against each other. Because you are constantly playing with real people in a competitive environment, the gaming experience is kept dynamic and engaging, rather then relying on a progressing in a story line. \n",
    "\n",
    "When considering what kinds of games are successful in the market, it may be helpful to consider whether a game is player-versus-player (PVP) or player-vs-everyone (PVE). Wii Play, Mario Kart Wii, and Mario Kart DS, are examples of PVP games, that is, players do not play by the themselves against computers, but rather against other real players, and these kinds of games inherently carry with them a competitive aspect. In terms of motivation, players are motivated to constantly return to the game in order to hone their skills in the game. In many PVE games, players are instead motivated by the desire to progress in the game itself. \n",
    "\n",
    "The other game that was represented in the top-performing game, despite not having the same PVP quality as the others, was New Super Mario Bros. I think the reason that this title in particular was so successful is because of its recognisability. Just the name Mario in the gaming sphere is already enough for people, gamer or not, to have a mental image of what the game will entail. As a game that has had many remakes and interations, I think that this game's successful largely comes from its capacity to combine the nostalgia of players with the refreshing nature of a game remake or sequel. A game beloved by many, the Super Mario series of games is one that people are invested in because of their emotional attatchment to the games and characters. \n",
    "\n",
    "When it comes to learning, motivation is a crucial part of pedagogy. In both the conventional sense and in the realm of possibly gamifying learning, I think that it would be helpful to incoroporate a healthy amount of competition, whether it be against the self or against others. I think it is also important for students to have the ability to engage with other students as well, as this social aspect to learning and gaming is something that motivates students additionally. "
   ]
  },
  {
   "cell_type": "markdown",
   "id": "f18486f0-4a01-473c-a068-80627cbd10c0",
   "metadata": {},
   "source": [
    "## **Nintendo: A Closer Look** "
   ]
  },
  {
   "cell_type": "markdown",
   "id": "2fc1e300-00b2-401f-bbf7-6615d59c7b3c",
   "metadata": {},
   "source": [
    "Looking at the top-performing games, it is clear to see that Nintendo has a clear group on the gaming market when it comes to sales. As such, I would like to examine just what about these games makes them so desirable to players, and as such I would like to look to Nintendo themselves to see how they would market and describe these games. "
   ]
  },
  {
   "cell_type": "code",
   "execution_count": 5,
   "id": "3df38778-285a-4ece-9f93-bc93b1a79126",
   "metadata": {},
   "outputs": [],
   "source": [
    "#hide\n",
    "from wordcloud import WordCloud, ImageColorGenerator\n",
    "from PIL import Image\n",
    "import matplotlib.pyplot as plt"
   ]
  },
  {
   "cell_type": "code",
   "execution_count": 8,
   "id": "8da697d9-a717-442a-a7de-6373cf7333a9",
   "metadata": {},
   "outputs": [],
   "source": [
    "#hide\n",
    "myStopWords = list(punctuation) + stopwords.words('english')"
   ]
  },
  {
   "cell_type": "code",
   "execution_count": 4,
   "id": "da959f00-f110-4793-8f97-ac5407c6e84d",
   "metadata": {},
   "outputs": [],
   "source": [
    "#hide\n",
    "super_mario_describe = '''\n",
    "Bowser has taken over the Mushroom Kingdom, and it's up to Mario to put an end to his sinister reign! Battle Bowser's vile henchmen through 32 levels in the Original 1985 game mode. Move on to collecting special Red Coins and Yoshi Eggs in Challenge mode. Then, try to unlock a secret mode that's waiting to be found by super players like you! Every mode will give you the chance to beat your own score, and there's a lot more to do than just saving a princess. So get ready for a brick-smashin', pipe-warpin', turtle-stompin' good time!\n",
    "Mario™ and Luigi™ star in their first ever Mushroom Kingdom adventure! Find out why Super Mario Bros. is instantly recognizable to millions of people across the globe, and what made it the best-selling game in the world for three decades straight. Jump over obstacles, grab coins, kick shells, and throw fireballs through eight action-packed worlds in this iconic NES classic. Only you and the Mario Bros. can rescue Princess Toadstool from the clutches of the evil Bowser.\n",
    "Pick up items and throw them at your adversaries to clear levels in seven fantastical worlds. Even enemies can be picked up and tossed across the screen. Each character has a unique set of abilities: Luigi can jump higher and farther than any of the other characters, Toad can dig extremely fast and pull items out of the ground quicker than anyone, and the princess is the only one who can jump and hover temporarily. This unique installment in the Mario series will keep you coming back for more!\n",
    "Relive the classic that brought renowned power-ups such as the Tanooki Suit to the world of Super Mario Bros.!\n",
    "Bowser™ and the Koopalings are causing chaos yet again, but this time they’re going beyond the Mushroom Kingdom into the seven worlds that neighbor it. Now Mario™ and Luigi™ must battle a variety of enemies, including a Koopaling in each unique and distinctive world, on their way to ultimately taking on Bowser himself. Lucky for the brothers, they have more power-ups available than ever before. Fly above the action using the Super Leaf, swim faster by donning the Frog Suit, or defeat enemies using the Hammer Bros. Suit. Use the brand-new overworld map to take the chance to play a minigame in hopes of gaining extra lives or to find a Toad’s House where you can pick up additional items. All this (and more) combines into one of gaming’s most well-known and beloved titles—are you ready to experience gaming bliss?\n",
    "'''"
   ]
  },
  {
   "cell_type": "code",
   "execution_count": 24,
   "id": "b4698727-10a3-4cb4-bbd8-6b27936bc4bf",
   "metadata": {},
   "outputs": [
    {
     "data": {
      "image/png": "[encoded data removed]",
      "text/plain": [
       "<Figure size 432x288 with 1 Axes>"
      ]
     },
     "metadata": {
      "needs_background": "light"
     },
     "output_type": "display_data"
    }
   ],
   "source": [
    "#hide-input\n",
    "wc = WordCloud().generate_from_text(super_mario_describe)\n",
    "\n",
    "#Use matplotlib.pyplot to display the fitted wordcloud\n",
    "#Turn axis off to get rid of axis numbers\n",
    "plt.imshow(wc)\n",
    "plt.axis('off')\n",
    "plt.show()"
   ]
  },
  {
   "cell_type": "code",
   "execution_count": 14,
   "id": "4a4f4374-e116-4ae9-a56e-020affb9ff08",
   "metadata": {},
   "outputs": [],
   "source": [
    "#hide\n",
    "mario_kart_describe = '''\n",
    "Select one of eight characters from the Mario™ series—offering a variety of driving styles—and take on three championship cups in three different kart classes. Win enough, and you'll unlock a fourth circuit: the ultra-tough Special Cup. Crossing the finish line in first place isn't an easy task, though, as each track has unique obstacles to conquer and racers can obtain special power-ups that boost them to victory. With more than 15 tracks to master and nearly endless replay value, Super Mario Kart is classic gaming…with some banana peels thrown in for good measure!\n",
    "The newest installment of the fan-favorite Mario Kart™ franchise brings Mushroom Kingdom racing fun into glorious 3D. For the first time, drivers explore new competitive kart possibilities, such as soaring through the skies or plunging into the depths of the sea. New courses, strategic new abilities and customizable karts bring the racing excitement to new heights.\n",
    "\n",
    "FEATURES:\n",
    "\n",
    "The Mario Kart franchise continues to evolve. New kart abilities add to the wild fun that the games are known for. On big jumps, a kart deploys a wing to let it glide over the track shortcut. When underwater, a propeller pops out to help the kart cruise across the sea floor.\n",
    "Players can show their own style by customizing their vehicles with accessories that give them a competitive advantage. For instance, giant tires help a kart drive off-road, while smaller tires accelerate quickly on paved courses.\n",
    "People can choose to race as one of their favorite Mushroom Kingdom characters or even as their Mii™ character.\n",
    "New courses take players on wild rides over mountains, on city streets and through a dusty desert. Nintendo fans will recognize new courses on Wuhu Island and in the jungles from Donkey Kong Country™ Returns.\n",
    "The game supports both SpotPass™ and StreetPass™ features.\n",
    "Players can compete in local wireless matches or online over a broadband Internet connection.\n",
    "\n",
    "The newest installment of the fan-favorite Mario Kart™ franchise brings Mushroom Kingdom racing fun into glorious 3D. For the first time, drivers explore new competitive kart possibilities, such as soaring through the skies or plunging into the depths of the sea. New courses, strategic new abilities and customizable karts bring the racing excitement to new heights.\n",
    "\n",
    "FEATURES:\n",
    "\n",
    "The Mario Kart franchise continues to evolve. New kart abilities add to the wild fun that the games are known for. On big jumps, a kart deploys a wing to let it glide over the track shortcut. When underwater, a propeller pops out to help the kart cruise across the sea floor.\n",
    "Players can show their own style by customizing their vehicles with accessories that give them a competitive advantage. For instance, giant tires help a kart drive off-road, while smaller tires accelerate quickly on paved courses.\n",
    "People can choose to race as one of their favorite Mushroom Kingdom characters or even as their Mii™ character.\n",
    "New courses take players on wild rides over mountains, on city streets and through a dusty desert. Nintendo fans will recognize new courses on Wuhu Island and in the jungles from Donkey Kong Country™ Returns.\n",
    "The game supports both SpotPass™ and StreetPass™ features.\n",
    "Players can compete in local wireless matches or online over a broadband Internet connection.\n",
    "'''"
   ]
  },
  {
   "cell_type": "code",
   "execution_count": 25,
   "id": "3a9988bf-11ba-480d-8359-fcab98fa2c0a",
   "metadata": {},
   "outputs": [
    {
     "data": {
      "image/png": "[encoded data removed]",
      "text/plain": [
       "<Figure size 432x288 with 1 Axes>"
      ]
     },
     "metadata": {
      "needs_background": "light"
     },
     "output_type": "display_data"
    }
   ],
   "source": [
    "#hide-input\n",
    "wc2 = WordCloud().generate_from_text(mario_kart_describe)\n",
    "\n",
    "#Use matplotlib.pyplot to display the fitted wordcloud\n",
    "#Turn axis off to get rid of axis numbers\n",
    "plt.imshow(wc2)\n",
    "plt.axis('off')\n",
    "plt.show()"
   ]
  },
  {
   "cell_type": "code",
   "execution_count": 16,
   "id": "2170ae51-a8b2-426c-b46f-0a7109a435c5",
   "metadata": {},
   "outputs": [],
   "source": [
    "#hide\n",
    "smash_bros_describe = '''\n",
    "Super Smash Bros. for Nintendo 3DS is the first portable entry in the renowned series, in which game worlds collide. Up to four players battle each other locally or online using some of Nintendo’s most well-known and iconic characters across beautifully designed stages inspired by classic portable Nintendo games. It’s a genuine, massive Super Smash Bros. experience that’s available to play on the go, anytime, anywhere.\n",
    "\n",
    "FEATURES:\n",
    "\n",
    "Smash and crash through “Smash Run” mode, a new mode exclusive to the Nintendo 3DS version that gives up to four players five minutes to fight solo through a huge battlefield while taking down recognizable enemies from almost every major Nintendo franchise and multiple third-party partners. Defeated enemies leave behind power-ups to collect. Players who collect more power-ups have an advantage once time runs out and the battle with opponents begins.\n",
    "Compete with classic characters from the Super Smash Bros. series like Mario, Link, Samus and Pikachu, along with new challengers like Mega Man, Little Mac and newly announced Palutena, the Goddess of Light from the Kid Icarus games. For the first time players can even compete as their own Mii characters.\n",
    "Customize different aspects of your character when playing locally or online with friends in a variety of multiplayer modes.\n",
    "View most elements of the high-energy action at silky-smooth 60 frames per second and in eye-popping stereoscopic 3D.\n",
    "Fight against friends and family locally or online, or battle random challengers all over the world online in “For Fun” or “For Glory” modes.\n",
    "\n",
    "Gaming icons clash in the ultimate brawl you can play anytime, anywhere! Smash rivals off the stage as new characters Simon Belmont and King K. Rool join Inkling, Ridley, and every fighter in Super Smash Bros. history. Enjoy enhanced speed and combat at new stages based on the Castlevania series, Super Mario Odyssey, and more!\n",
    "\n",
    "Having trouble choosing a stage? Then select the Stage Morph option to transform one stage into another while battling—a series first! Plus, new echo fighters Dark Samus, Richter Belmont, and Chrom join the battle. Whether you play locally or online, savor the faster combat, new attacks, and new defensive options, like a perfect shield. Jam out to 900 different music compositions and go 1-on-1 with a friend, hold a 4-player free-for-all, kick it up to 8-player battles and more! Feel free to bust out your GameCube controllers—legendary couch competitions await—or play together anytime, anywhere!\n",
    "'''"
   ]
  },
  {
   "cell_type": "code",
   "execution_count": 26,
   "id": "051f4737-ad26-44cd-ba30-2b8a6a86d6b6",
   "metadata": {},
   "outputs": [
    {
     "data": {
      "image/png": "[encoded data removed]",
      "text/plain": [
       "<Figure size 432x288 with 1 Axes>"
      ]
     },
     "metadata": {
      "needs_background": "light"
     },
     "output_type": "display_data"
    }
   ],
   "source": [
    "#hide-input\n",
    "wc3 = WordCloud().generate_from_text(smash_bros_describe)\n",
    "\n",
    "#Use matplotlib.pyplot to display the fitted wordcloud\n",
    "#Turn axis off to get rid of axis numbers\n",
    "plt.imshow(wc3)\n",
    "plt.axis('off')\n",
    "plt.show()"
   ]
  },
  {
   "cell_type": "markdown",
   "id": "8504f0b7-e02f-4ed5-8c1e-5622181691b9",
   "metadata": {},
   "source": [
    "### It's Mario's World and We're Just Playing in It "
   ]
  },
  {
   "cell_type": "markdown",
   "id": "18956246-4a3d-4229-b4b2-f71d12c30387",
   "metadata": {},
   "source": [
    "After creating word clouds from Nintendo's descriptions of its highest selling titles from 2004-2010, there are some recurring themes that we see when Nintendo describes its games to players and potential customers. Words unique to the game, such as \"stage,\" \"kart\", and \"world\" are combined with descriptors such as \"new,\" \"fun,\" and \"unique,\" as well as familiar terms such as \"Nintendo,\" \"Mario,\" and \"Bowser,\" to create a sense that the player will be buying into a refreshing, updated, and modernized version of a product that they know and love. I think that much of Nintendo's success in the gaming market comes from the so-called empire that it has created both with its consistency of creating modern versions of its classic titles and capitalizing off of the nostalgia for these titles as well. \n",
    "\n",
    "For developers that are not Nintendo, I think that it is important to create characters that people will love, and create a universe around these characters, incorporating them into different games and genres. While Mario is one character that definitely become a poster-child for Nintendo, I think that other characters such as Link and Zelda, or the Pokemon franchise in general have also achieved a similar status of recognizability for the company, and would likely be top-performing games in a more modern dataset. "
   ]
  },
  {
   "cell_type": "markdown",
   "id": "c8dce981-f026-414e-a390-2f44916871ae",
   "metadata": {},
   "source": [
    "## **Conclusion** "
   ]
  },
  {
   "cell_type": "markdown",
   "id": "6d5a6822-9275-4bc5-880d-17f16515af15",
   "metadata": {},
   "source": [
    "Through conducting this analysis of the video games dataset from CORGIS, I was able to learn a lot about the market in general, and what makes a \"successful\" game. My findings constrasted my expectations, but I was able to come to conclusions that I believe would be helpful for both game developers, and my own interests in gamifying learning. \n",
    "\n",
    "In my exploration of both this project, and the course Digital Humanities 140, I learned many Python tools and became more comfortable working with new libraries as well as datasets. Although I used pandas for the majority of my analysis, the two libraries that I found helpful as well were seaborn and wordcloud for data visualization. Seaborn allowed me to combine aesthetic graphical information with statistical information, and wordcloud allowed me to create easy-to-understand visualizations, both of which reminded me of the importance of being able to tell a story with your data. \n",
    "\n",
    "In the future, it would be fascinating to conduct a similar study with the modern video game market. Nowadays, gaming has been expanded to PC and mobile platforms, which were not represented in the CORGIS dataset. Additionally, many games are now free-to-play, so I think the metrics that are used for success may be a bit different that they were in my investigation. With the rise of e-sports and streaming, gaming is consumed in ways outside of simply playing the game, and has become a form of entertainment that is similar to movies, sporting, and YouTube. \n",
    "\n",
    "I would like to acknowledge Professor Winjum for his dedication to instruction this quarter, and his continual understanding. Thank you! "
   ]
  }
 ],
 "metadata": {
  "kernelspec": {
   "display_name": "Python 3 (ipykernel)",
   "language": "python",
   "name": "python3"
  },
  "language_info": {
   "codemirror_mode": {
    "name": "ipython",
    "version": 3
   },
   "file_extension": ".py",
   "mimetype": "text/x-python",
   "name": "python",
   "nbconvert_exporter": "python",
   "pygments_lexer": "ipython3",
   "version": "3.9.6"
  }
 },
 "nbformat": 4,
 "nbformat_minor": 5
}
